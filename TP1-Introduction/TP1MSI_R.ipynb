{
 "cells": [
  {
   "cell_type": "markdown",
   "id": "4efff6ec",
   "metadata": {},
   "source": [
    "<head>\n",
    "    <style>\n",
    "        h1{\n",
    "            color: red ;\n",
    "        }\n",
    "    </style>\n",
    "</head>\n",
    "<h1> Introduction : </h1>\n",
    "<p>Prendre en main le sujet de TP et voir comment générer des chiffres entiers aléatoires avec R</p>\n",
    "\n",
    "<h1> Sujet du TP </h1>\n",
    "<p>Un enfant collectionne des images de son équipe de football\n",
    "préférée, images qu’il trouve dans des boîtes de céréales. Il y a\n",
    "11 images différentes à gagner.</p>"
   ]
  },
  {
   "cell_type": "code",
   "execution_count": 1,
   "id": "fb9a5863",
   "metadata": {},
   "outputs": [
    {
     "name": "stdout",
     "output_type": "stream",
     "text": [
      " [1] 10  3  1  6  6  8  3 11  9 11  1  1  5  5  1 11  9  5  5  6\n"
     ]
    }
   ],
   "source": [
    "# Code réalisé par Alexandre-Lebas le 10/09/2021\n",
    "\n",
    "# Faire un premier tirage \n",
    "# Pour simplifier on ne donne pas de nom aux cartes mais on leur donne un numéro entre 1 et 11\n",
    "tirage = sample(x=1:11,size=20,replace=T)\n",
    "print(tirage)"
   ]
  },
  {
   "cell_type": "code",
   "execution_count": 2,
   "id": "ae8e00d8",
   "metadata": {},
   "outputs": [
    {
     "data": {
      "text/html": [
       "'numeric'"
      ],
      "text/latex": [
       "'numeric'"
      ],
      "text/markdown": [
       "'numeric'"
      ],
      "text/plain": [
       "[1] \"numeric\""
      ]
     },
     "metadata": {},
     "output_type": "display_data"
    }
   ],
   "source": [
    "mode(tirage)"
   ]
  },
  {
   "cell_type": "markdown",
   "id": "9959e4f5",
   "metadata": {},
   "source": [
    "# Question 1 :\n",
    "<p> Combien faut-il acheter de boîtes de céréales en moyenne\n",
    "pour avoir la collection complète des joueurs ? (on, suppose bien\n",
    "entendu que l’on a la même probabilité d’obtenir chacune des\n",
    "images dans chaque paquet de céréales</p>\n",
    "\n",
    "<p> <a href=\"https://www.ilemaths.net/sujet-le-collectionneur-469931.html\">Lien</a> pour aider à la démonstration de la formule a utilisé. </p>"
   ]
  },
  {
   "cell_type": "code",
   "execution_count": 3,
   "id": "8acb9d4c",
   "metadata": {},
   "outputs": [
    {
     "data": {
      "text/html": [
       "34"
      ],
      "text/latex": [
       "34"
      ],
      "text/markdown": [
       "34"
      ],
      "text/plain": [
       "[1] 34"
      ]
     },
     "metadata": {},
     "output_type": "display_data"
    }
   ],
   "source": [
    "\n",
    "# Question 1 :\n",
    "\n",
    "# Utilisation d'une formule mathématique\n",
    "moyenneObtenirTouteLesCartes = function(n){\n",
    "    # Fonction qui calcule combien il faut acheter de boîtes en moyenne pour obtenir toutes les cartes.\n",
    "    # n représente le nombre de cartes qu'il y a obtenir\n",
    "    # k représente le nombre de cartes que l'on possède \n",
    "    k = 1\n",
    "    somme1k = 0\n",
    "    moyenne = 0 # Nombre de boite que l'on doit acheter en moyenne\n",
    "    while (k<=n){\n",
    "        somme1k = somme1k + (1/k)\n",
    "        k = k+1\n",
    "    }\n",
    "    moyenne = n*somme1k\n",
    "    # Une fois que l'on possède le nombre moyen de boîtes qu'il faut acheter il faut arrondir par excès.\n",
    "    # Car la moyenne et un nombre réel et que le nombre de boîtes est entier.\n",
    "    moyenne = ceiling(moyenne)\n",
    "    # Renvoie le nombre de boîtes qu'il faut acheter en moyenne\n",
    "    return(moyenne)\n",
    "}\n",
    "moyenneObtenirTouteLesCartes(11)"
   ]
  },
  {
   "cell_type": "markdown",
   "id": "4f0c6df1",
   "metadata": {},
   "source": [
    "## Utilisation d'une autre méthode\n",
    "<p>La première métohde utilise une formule mathématique qui explicite la moyenne theorique esseyant de calculer la moyenne avec la méthode utilisée en TP</p>"
   ]
  },
  {
   "cell_type": "code",
   "execution_count": 4,
   "id": "50256125",
   "metadata": {},
   "outputs": [],
   "source": [
    "\n",
    "# Utilisation de la méthode vue en cours\n",
    "\n",
    "nombreDeTirageNecessairePourAvoirTout = function(nombreDeCartes = 11){\n",
    "    # Calcule combien de tirage son nécessaire pour obtenir toutes les cartes\n",
    "    # nombreDeCartes représente le nombre de carte différentes que l'on doit posséder\n",
    "    tirage = vector() # Représente la carte que l'on tire\n",
    "    nombreTirages = 0 # Représente le nombre de tirages que l'on a réalisé\n",
    "    cartes = c() # Cartes que l'on possède\n",
    "    while (length(cartes)<nombreDeCartes){\n",
    "        tirage = sample(1:nombreDeCartes,1)\n",
    "        nombreTirages = nombreTirages+1\n",
    "        if (!(tirage %in% cartes)){ # Si on ne possède pas encore la carte tirée\n",
    "            cartes=c(tirage,cartes)\n",
    "        }\n",
    "    }\n",
    "    return (nombreTirages)\n",
    "}"
   ]
  },
  {
   "cell_type": "code",
   "execution_count": 5,
   "id": "9ee2c9b5",
   "metadata": {},
   "outputs": [
    {
     "data": {
      "text/html": [
       "34"
      ],
      "text/latex": [
       "34"
      ],
      "text/markdown": [
       "34"
      ],
      "text/plain": [
       "[1] 34"
      ]
     },
     "metadata": {},
     "output_type": "display_data"
    }
   ],
   "source": [
    "nombreDeTirageNecessairePourAvoirTout(11)"
   ]
  },
  {
   "cell_type": "code",
   "execution_count": 6,
   "id": "9ba9096a",
   "metadata": {},
   "outputs": [
    {
     "data": {
      "text/html": [
       "32"
      ],
      "text/latex": [
       "32"
      ],
      "text/markdown": [
       "32"
      ],
      "text/plain": [
       "[1] 32"
      ]
     },
     "metadata": {},
     "output_type": "display_data"
    }
   ],
   "source": [
    "moyenneDeTiragesPourAvoirTout = function(n,nombreDeCartes = 11){\n",
    "    # Calcul de la moyenne de tirage que l'on doit réaliser pour avoir toutes les cartes\n",
    "    # Pour cela on va utiliser n fois la fonction nombreDeTirageNecessairePourAvoirTout(nombreDeCartes)\n",
    "    somme = 0\n",
    "    i=1\n",
    "    while (i<=n){\n",
    "        somme = somme + nombreDeTirageNecessairePourAvoirTout(nombreDeCartes)\n",
    "        i=i+1\n",
    "    }\n",
    "    # On renvoie la moyenne arrondie  car c'est un nombre réel et que le nombre de boîtes est entier.\n",
    "    return (ceiling(somme/n))\n",
    "}\n",
    "moyenneDeTiragesPourAvoirTout(100)"
   ]
  },
  {
   "cell_type": "markdown",
   "id": "06faf958",
   "metadata": {},
   "source": [
    "# Question 2 :\n",
    "<p> Développer une fonction qui réalise N tests.</p>"
   ]
  },
  {
   "cell_type": "code",
   "execution_count": 7,
   "id": "92498b96",
   "metadata": {},
   "outputs": [],
   "source": [
    "\n",
    "# Question 2 :\n",
    "\n",
    "# Définir le nombre de tirages que l'on souhaite réaliser\n",
    "nombreDeTirage = 50"
   ]
  },
  {
   "cell_type": "code",
   "execution_count": 8,
   "id": "2dab1cc3",
   "metadata": {},
   "outputs": [],
   "source": [
    "NTest <- function(N){\n",
    "    # Fonction qui réalise les N tirages aléatoires de carte \n",
    "    tirage = sample(x=1:11,size=N,replace = TRUE)\n",
    "    # On renvoie les N tirages aléatoires\n",
    "    return(tirage)\n",
    "}"
   ]
  },
  {
   "cell_type": "code",
   "execution_count": 9,
   "id": "a5f361f2",
   "metadata": {},
   "outputs": [
    {
     "name": "stdout",
     "output_type": "stream",
     "text": [
      " [1] 10  2  2  4 11 10  2  5  9  3  6  4  7  5 11  9  5  3  6 11  2  6  5  9  2\n",
      "[26]  8  6  5 11  5  3  1  6 10 11  3 11  6  1  4  8  2  8 11  7  7  2  4  1  8\n"
     ]
    }
   ],
   "source": [
    "# On convertit les N tirages aléatoires en numeric\n",
    "experience = as.numeric(NTest(nombreDeTirage))\n",
    "print(experience)"
   ]
  },
  {
   "cell_type": "markdown",
   "id": "89865c09",
   "metadata": {},
   "source": [
    "<h1> Question 3 : </h1>\n",
    "<p> Réaliser un frame composé de la date de test et du nombre\n",
    "de tirage.</p>"
   ]
  },
  {
   "cell_type": "code",
   "execution_count": 10,
   "id": "8ce92314",
   "metadata": {},
   "outputs": [
    {
     "name": "stdout",
     "output_type": "stream",
     "text": [
      "[1] \"2021-09-15 10:17:51 CEST\"\n"
     ]
    }
   ],
   "source": [
    "# Question 3 :\n",
    "\n",
    "# On récupère la date \n",
    "Date = Sys.time()\n",
    "print(Date)"
   ]
  },
  {
   "cell_type": "code",
   "execution_count": 11,
   "id": "1804b34c",
   "metadata": {},
   "outputs": [
    {
     "data": {
      "text/html": [
       "<table class=\"dataframe\">\n",
       "<caption>A data.frame: 1 × 2</caption>\n",
       "<thead>\n",
       "\t<tr><th scope=col>Date</th><th scope=col>nombreDeTirage</th></tr>\n",
       "\t<tr><th scope=col>&lt;dttm&gt;</th><th scope=col>&lt;dbl&gt;</th></tr>\n",
       "</thead>\n",
       "<tbody>\n",
       "\t<tr><td>2021-09-15 10:17:51</td><td>50</td></tr>\n",
       "</tbody>\n",
       "</table>\n"
      ],
      "text/latex": [
       "A data.frame: 1 × 2\n",
       "\\begin{tabular}{ll}\n",
       " Date & nombreDeTirage\\\\\n",
       " <dttm> & <dbl>\\\\\n",
       "\\hline\n",
       "\t 2021-09-15 10:17:51 & 50\\\\\n",
       "\\end{tabular}\n"
      ],
      "text/markdown": [
       "\n",
       "A data.frame: 1 × 2\n",
       "\n",
       "| Date &lt;dttm&gt; | nombreDeTirage &lt;dbl&gt; |\n",
       "|---|---|\n",
       "| 2021-09-15 10:17:51 | 50 |\n",
       "\n"
      ],
      "text/plain": [
       "  Date                nombreDeTirage\n",
       "1 2021-09-15 10:17:51 50            "
      ]
     },
     "metadata": {},
     "output_type": "display_data"
    }
   ],
   "source": [
    "# On crée le frame avec la date et le nombre de tirages\n",
    "(frame = data.frame(Date,nombreDeTirage))"
   ]
  },
  {
   "cell_type": "code",
   "execution_count": 12,
   "id": "8d75cf9f",
   "metadata": {},
   "outputs": [],
   "source": [
    "# Réalisation d'une frame avec la date et l'heure pour chaque tirage\n",
    "dataframeDateEtTest = function(N){\n",
    "    # N represente le nombre de tirage que l'on souhaite réalisé\n",
    "    i=1\n",
    "    date = rep(Sys.time(),N)\n",
    "    tirage = rep(0,N)\n",
    "    while (i<=N){\n",
    "        tirage[i]=sample(x=1:11,size=1)\n",
    "        date[i]=Sys.time()\n",
    "        i=i+1\n",
    "    }\n",
    "    (df<- data.frame(date,tirage))\n",
    "    return(df)\n",
    "}\n",
    "frame1 = dataframeDateEtTest(nombreDeTirage)"
   ]
  },
  {
   "cell_type": "markdown",
   "id": "14ee55e4",
   "metadata": {},
   "source": [
    "# Question 4 :\n",
    "<p>Afficher la structure du frame.</p>"
   ]
  },
  {
   "cell_type": "code",
   "execution_count": 13,
   "id": "0bc2409e",
   "metadata": {},
   "outputs": [
    {
     "name": "stdout",
     "output_type": "stream",
     "text": [
      "                 Date nombreDeTirage\n",
      "1 2021-09-15 10:17:51             50\n"
     ]
    }
   ],
   "source": [
    "\n",
    "# Question 4 :\n",
    "\n",
    "print(frame)"
   ]
  },
  {
   "cell_type": "code",
   "execution_count": 14,
   "id": "49df4dda",
   "metadata": {},
   "outputs": [
    {
     "name": "stdout",
     "output_type": "stream",
     "text": [
      "                  date tirage\n",
      "1  2021-09-15 10:17:51     11\n",
      "2  2021-09-15 10:17:51      4\n",
      "3  2021-09-15 10:17:51     11\n",
      "4  2021-09-15 10:17:51     10\n",
      "5  2021-09-15 10:17:51     10\n",
      "6  2021-09-15 10:17:51      9\n",
      "7  2021-09-15 10:17:51      1\n",
      "8  2021-09-15 10:17:51      1\n",
      "9  2021-09-15 10:17:51      3\n",
      "10 2021-09-15 10:17:51      7\n",
      "11 2021-09-15 10:17:51     10\n",
      "12 2021-09-15 10:17:51     11\n",
      "13 2021-09-15 10:17:51      4\n",
      "14 2021-09-15 10:17:51     10\n",
      "15 2021-09-15 10:17:51      1\n",
      "16 2021-09-15 10:17:51      2\n",
      "17 2021-09-15 10:17:51      2\n",
      "18 2021-09-15 10:17:51      8\n",
      "19 2021-09-15 10:17:51      3\n",
      "20 2021-09-15 10:17:51      2\n",
      "21 2021-09-15 10:17:51      3\n",
      "22 2021-09-15 10:17:51      4\n",
      "23 2021-09-15 10:17:51      4\n",
      "24 2021-09-15 10:17:51     10\n",
      "25 2021-09-15 10:17:51      9\n",
      "26 2021-09-15 10:17:51      1\n",
      "27 2021-09-15 10:17:51     10\n",
      "28 2021-09-15 10:17:51     11\n",
      "29 2021-09-15 10:17:51      4\n",
      "30 2021-09-15 10:17:51      3\n",
      "31 2021-09-15 10:17:51      4\n",
      "32 2021-09-15 10:17:51      3\n",
      "33 2021-09-15 10:17:51     10\n",
      "34 2021-09-15 10:17:51      7\n",
      "35 2021-09-15 10:17:51      7\n",
      "36 2021-09-15 10:17:51     11\n",
      "37 2021-09-15 10:17:51     11\n",
      "38 2021-09-15 10:17:51      1\n",
      "39 2021-09-15 10:17:51      2\n",
      "40 2021-09-15 10:17:51      9\n",
      "41 2021-09-15 10:17:51      5\n",
      "42 2021-09-15 10:17:51     10\n",
      "43 2021-09-15 10:17:51      3\n",
      "44 2021-09-15 10:17:51      2\n",
      "45 2021-09-15 10:17:51      7\n",
      "46 2021-09-15 10:17:51     10\n",
      "47 2021-09-15 10:17:51      8\n",
      "48 2021-09-15 10:17:51      5\n",
      "49 2021-09-15 10:17:51      2\n",
      "50 2021-09-15 10:17:51     11\n"
     ]
    }
   ],
   "source": [
    "print(frame1)"
   ]
  },
  {
   "cell_type": "markdown",
   "id": "a8fa1c5f",
   "metadata": {},
   "source": [
    "# Question 5 :\n",
    "<p> Afficher la courbe des tirages.</p>"
   ]
  },
  {
   "cell_type": "code",
   "execution_count": 15,
   "id": "a423350d",
   "metadata": {},
   "outputs": [],
   "source": [
    "\n",
    "# Question 5 :\n",
    "\n",
    "compterValeur = function(tirage){\n",
    "    # Cette fonction permet de compter combien de fois nous avons chaque carte\n",
    "    # Utile pour afficher le diagramme en baton\n",
    "    i=1\n",
    "    x = rep(0,11)\n",
    "    while (i<length(tirage)){\n",
    "        x[tirage[i]] = x[tirage[i]]+1\n",
    "        i = i+1\n",
    "    }\n",
    "    # Renvoyer le vecteur x qui a compté combien de fois nous avons trouvé chaque carte\n",
    "    return(x)\n",
    "}"
   ]
  },
  {
   "cell_type": "code",
   "execution_count": 16,
   "id": "ceacda9e",
   "metadata": {},
   "outputs": [
    {
     "data": {
      "image/png": "[encoded data removed]",
      "text/plain": [
       "plot without title"
      ]
     },
     "metadata": {
      "image/png": {
       "height": 420,
       "width": 420
      }
     },
     "output_type": "display_data"
    }
   ],
   "source": [
    "# Afficher le diagramme en bâton plus pratique pour voir combien de fois nous avons chaque carte\n",
    "barplot(compterValeur(experience))"
   ]
  },
  {
   "cell_type": "markdown",
   "id": "94f89b89",
   "metadata": {},
   "source": [
    "# Question 6 :\n",
    "<p>Exporter le frame dans un fichier excel.<p>"
   ]
  },
  {
   "cell_type": "code",
   "execution_count": 17,
   "id": "833a7b5d",
   "metadata": {},
   "outputs": [
    {
     "name": "stderr",
     "output_type": "stream",
     "text": [
      "Installation du package dans 'C:/Users/alex5/OneDrive/Documents/R/win-library/4.1'\n",
      "(car 'lib' n'est pas spécifié)\n",
      "\n"
     ]
    },
    {
     "name": "stdout",
     "output_type": "stream",
     "text": [
      "package 'writexl' successfully unpacked and MD5 sums checked\n",
      "\n",
      "The downloaded binary packages are in\n",
      "\tC:\\Users\\alex5\\AppData\\Local\\Temp\\Rtmp2rgG4F\\downloaded_packages\n"
     ]
    }
   ],
   "source": [
    "\n",
    "# Question 6 :\n",
    "\n",
    "# Installer le package nécessaire pour pouvoir travailler avec les fichiers excels\n",
    "install.packages(\"writexl\")"
   ]
  },
  {
   "cell_type": "code",
   "execution_count": 18,
   "id": "1ecce4a9",
   "metadata": {},
   "outputs": [],
   "source": [
    "# Sauvegarder le frame dans un fichier excel nommé TP1.xlsx\n",
    "library(\"writexl\")\n",
    "write_xlsx(frame1, \"TP1.xlsx\")"
   ]
  }
 ],
 "metadata": {
  "kernelspec": {
   "display_name": "R",
   "language": "R",
   "name": "ir"
  },
  "language_info": {
   "codemirror_mode": "r",
   "file_extension": ".r",
   "mimetype": "text/x-r-source",
   "name": "R",
   "pygments_lexer": "r",
   "version": "4.1.1"
  }
 },
 "nbformat": 4,
 "nbformat_minor": 5
}
