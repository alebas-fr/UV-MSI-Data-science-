{
 "cells": [
  {
   "cell_type": "markdown",
   "id": "4efff6ec",
   "metadata": {},
   "source": [
    "<head>\n",
    "    <style>\n",
    "        h1{\n",
    "            color: red ;\n",
    "        }\n",
    "    </style>\n",
    "</head>\n",
    "<h1> Introduction : </h1>\n",
    "<p>Prendre en main le sujet de TP et voir comment générer des chiffres entiers aléatoires avec R</p>"
   ]
  },
  {
   "cell_type": "code",
   "execution_count": 1,
   "id": "fb9a5863",
   "metadata": {},
   "outputs": [
    {
     "name": "stdout",
     "output_type": "stream",
     "text": [
      " [1] 11  7  6 11  1  4  4  1  9  6  9  6  7 11  9  8  3  2  3 10\n"
     ]
    }
   ],
   "source": [
    "# Faire un premier tirage \n",
    "# pour simplifier on ne donne pas de nom aux cartes mais on leur donne un numéro entre 1 et 11\n",
    "tirage = sample(x=1:11,size=20,replace=T)\n",
    "print(tirage)"
   ]
  },
  {
   "cell_type": "code",
   "execution_count": 2,
   "id": "ae8e00d8",
   "metadata": {},
   "outputs": [
    {
     "data": {
      "text/html": [
       "'numeric'"
      ],
      "text/latex": [
       "'numeric'"
      ],
      "text/markdown": [
       "'numeric'"
      ],
      "text/plain": [
       "[1] \"numeric\""
      ]
     },
     "metadata": {},
     "output_type": "display_data"
    }
   ],
   "source": [
    "mode(tirage)"
   ]
  },
  {
   "cell_type": "markdown",
   "id": "06faf958",
   "metadata": {},
   "source": [
    "# Question 2 :\n",
    "<p> Développer une fonction qui réalise N tests.</p>"
   ]
  },
  {
   "cell_type": "code",
   "execution_count": 3,
   "id": "92498b96",
   "metadata": {},
   "outputs": [],
   "source": [
    "# Définir le nombre de tirages que l'on souhaite réaliser\n",
    "nombreDeTirage = 30"
   ]
  },
  {
   "cell_type": "code",
   "execution_count": 4,
   "id": "2dab1cc3",
   "metadata": {},
   "outputs": [],
   "source": [
    "NTest <- function(N){\n",
    "    # Fonction qui réalise les N tirages aléatoires de carte \n",
    "    tirage = sample(x=1:11,size=N,replace = TRUE)\n",
    "    # On renvoie les N tirages aléatoires\n",
    "    return(tirage)\n",
    "}"
   ]
  },
  {
   "cell_type": "code",
   "execution_count": 5,
   "id": "a5f361f2",
   "metadata": {},
   "outputs": [
    {
     "name": "stdout",
     "output_type": "stream",
     "text": [
      " [1]  9 11  8  3  6  6  6  4  4  3 11  8  7 11  8  4  3  8  5  9 11 11  4  2  4\n",
      "[26] 11  2  7  1  6\n"
     ]
    }
   ],
   "source": [
    "# On convertit les N tirages aléatoires en numeric\n",
    "experience = as.numeric(NTest(nombreDeTirage))\n",
    "print(experience)"
   ]
  },
  {
   "cell_type": "markdown",
   "id": "89865c09",
   "metadata": {},
   "source": [
    "<h1> Question 3 : </h1>\n",
    "<p> Réaliser un frame composé de la date de test et du nombre\n",
    "de tirage.</p>"
   ]
  },
  {
   "cell_type": "code",
   "execution_count": 6,
   "id": "8ce92314",
   "metadata": {},
   "outputs": [
    {
     "name": "stdout",
     "output_type": "stream",
     "text": [
      "[1] \"2021-09-13\"\n"
     ]
    }
   ],
   "source": [
    "# On récupère la date \n",
    "Date = Sys.Date()\n",
    "print(Date)"
   ]
  },
  {
   "cell_type": "code",
   "execution_count": 7,
   "id": "1804b34c",
   "metadata": {},
   "outputs": [
    {
     "data": {
      "text/html": [
       "<table class=\"dataframe\">\n",
       "<caption>A data.frame: 1 × 2</caption>\n",
       "<thead>\n",
       "\t<tr><th scope=col>Date</th><th scope=col>nombreDeTirage</th></tr>\n",
       "\t<tr><th scope=col>&lt;date&gt;</th><th scope=col>&lt;dbl&gt;</th></tr>\n",
       "</thead>\n",
       "<tbody>\n",
       "\t<tr><td>2021-09-13</td><td>30</td></tr>\n",
       "</tbody>\n",
       "</table>\n"
      ],
      "text/latex": [
       "A data.frame: 1 × 2\n",
       "\\begin{tabular}{ll}\n",
       " Date & nombreDeTirage\\\\\n",
       " <date> & <dbl>\\\\\n",
       "\\hline\n",
       "\t 2021-09-13 & 30\\\\\n",
       "\\end{tabular}\n"
      ],
      "text/markdown": [
       "\n",
       "A data.frame: 1 × 2\n",
       "\n",
       "| Date &lt;date&gt; | nombreDeTirage &lt;dbl&gt; |\n",
       "|---|---|\n",
       "| 2021-09-13 | 30 |\n",
       "\n"
      ],
      "text/plain": [
       "  Date       nombreDeTirage\n",
       "1 2021-09-13 30            "
      ]
     },
     "metadata": {},
     "output_type": "display_data"
    }
   ],
   "source": [
    "# On crée le frame avec la date et le nombre de tirages\n",
    "(frame = data.frame(Date,nombreDeTirage))"
   ]
  },
  {
   "cell_type": "markdown",
   "id": "14ee55e4",
   "metadata": {},
   "source": [
    "# Question 4 :\n",
    "<p>Afficher la structure du frame.</p>"
   ]
  },
  {
   "cell_type": "code",
   "execution_count": 8,
   "id": "0bc2409e",
   "metadata": {},
   "outputs": [
    {
     "name": "stdout",
     "output_type": "stream",
     "text": [
      "        Date nombreDeTirage\n",
      "1 2021-09-13             30\n"
     ]
    }
   ],
   "source": [
    "print(frame)"
   ]
  },
  {
   "cell_type": "markdown",
   "id": "a8fa1c5f",
   "metadata": {},
   "source": [
    "# Question 5 :\n",
    "<p> Afficher la courbe des tirages.</p>"
   ]
  },
  {
   "cell_type": "code",
   "execution_count": 9,
   "id": "a423350d",
   "metadata": {},
   "outputs": [],
   "source": [
    "compterValeur = function(tirage){\n",
    "    # Cette fonction permet de compter combien de fois nous avons chaque carte\n",
    "    # Utile pour afficher le diagramme en baton\n",
    "    i=1\n",
    "    x = rep(0,11)\n",
    "    while (i<length(tirage)){\n",
    "        x[tirage[i]] = x[tirage[i]]+1\n",
    "        i = i+1\n",
    "    }\n",
    "    # Renvoyer le vecteur x qui a compté combien de fois nous avons trouvé chaque carte\n",
    "    return(x)\n",
    "}"
   ]
  },
  {
   "cell_type": "code",
   "execution_count": 10,
   "id": "ceacda9e",
   "metadata": {},
   "outputs": [
    {
     "data": {
      "image/png": "[encoded data removed]",
      "text/plain": [
       "plot without title"
      ]
     },
     "metadata": {
      "image/png": {
       "height": 420,
       "width": 420
      }
     },
     "output_type": "display_data"
    }
   ],
   "source": [
    "# Afficher le diagramme en bâton plus pratique pour voir combien de fois nous avons chaque carte\n",
    "barplot(compterValeur(experience))"
   ]
  },
  {
   "cell_type": "markdown",
   "id": "94f89b89",
   "metadata": {},
   "source": [
    "# Question 6 :\n",
    "<p>Exporter le frame dans un fichier excel.<p>"
   ]
  },
  {
   "cell_type": "code",
   "execution_count": 11,
   "id": "833a7b5d",
   "metadata": {},
   "outputs": [
    {
     "name": "stderr",
     "output_type": "stream",
     "text": [
      "Installation du package dans 'C:/Users/alex5/OneDrive/Documents/R/win-library/4.1'\n",
      "(car 'lib' n'est pas spécifié)\n",
      "\n"
     ]
    },
    {
     "name": "stdout",
     "output_type": "stream",
     "text": [
      "package 'writexl' successfully unpacked and MD5 sums checked\n",
      "\n",
      "The downloaded binary packages are in\n",
      "\tC:\\Users\\alex5\\AppData\\Local\\Temp\\RtmpKuQUet\\downloaded_packages\n"
     ]
    }
   ],
   "source": [
    "# Installer le package nécessaire pour pouvoir travailler avec les fichiers excels\n",
    "install.packages(\"writexl\")"
   ]
  },
  {
   "cell_type": "code",
   "execution_count": 12,
   "id": "1ecce4a9",
   "metadata": {},
   "outputs": [],
   "source": [
    "# Sauvegarder le frame dans un fichier excel nommé TP1.xlsx\n",
    "library(\"writexl\")\n",
    "write_xlsx(frame, \"TP1.xlsx\")"
   ]
  }
 ],
 "metadata": {
  "kernelspec": {
   "display_name": "R",
   "language": "R",
   "name": "ir"
  },
  "language_info": {
   "codemirror_mode": "r",
   "file_extension": ".r",
   "mimetype": "text/x-r-source",
   "name": "R",
   "pygments_lexer": "r",
   "version": "4.1.1"
  }
 },
 "nbformat": 4,
 "nbformat_minor": 5
}
