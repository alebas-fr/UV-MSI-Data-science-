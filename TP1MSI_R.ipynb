{
 "cells": [
  {
   "cell_type": "code",
   "execution_count": 1,
   "id": "fb9a5863",
   "metadata": {},
   "outputs": [
    {
     "name": "stdout",
     "output_type": "stream",
     "text": [
      " [1]  8  3 10 11  6  2  3 11  8 11 10  2  3  2  3 11  6  5  5 11\n"
     ]
    }
   ],
   "source": [
    "tirage = sample(x=1:11,size=20,replace=T)\n",
    "print(tirage)"
   ]
  },
  {
   "cell_type": "code",
   "execution_count": 2,
   "id": "ae8e00d8",
   "metadata": {},
   "outputs": [
    {
     "data": {
      "text/html": [
       "'numeric'"
      ],
      "text/latex": [
       "'numeric'"
      ],
      "text/markdown": [
       "'numeric'"
      ],
      "text/plain": [
       "[1] \"numeric\""
      ]
     },
     "metadata": {},
     "output_type": "display_data"
    }
   ],
   "source": [
    "mode(tirage)"
   ]
  },
  {
   "cell_type": "code",
   "execution_count": 3,
   "id": "92498b96",
   "metadata": {},
   "outputs": [],
   "source": [
    "nombreDeTirage = 30"
   ]
  },
  {
   "cell_type": "code",
   "execution_count": 4,
   "id": "2dab1cc3",
   "metadata": {},
   "outputs": [],
   "source": [
    "NTest <- function(nombreTirage){\n",
    "    tirage = sample(x=1:11,size=nombreTirage,replace = TRUE)\n",
    "    return(tirage)\n",
    "}"
   ]
  },
  {
   "cell_type": "code",
   "execution_count": 5,
   "id": "a5f361f2",
   "metadata": {},
   "outputs": [],
   "source": [
    "experience = as.numeric(NTest(nombreDeTirage))"
   ]
  },
  {
   "cell_type": "code",
   "execution_count": 6,
   "id": "8ce92314",
   "metadata": {},
   "outputs": [
    {
     "name": "stdout",
     "output_type": "stream",
     "text": [
      "[1] \"2021-09-13\"\n"
     ]
    }
   ],
   "source": [
    "Date = Sys.Date()\n",
    "print(Date)"
   ]
  },
  {
   "cell_type": "code",
   "execution_count": 7,
   "id": "1804b34c",
   "metadata": {},
   "outputs": [
    {
     "data": {
      "text/html": [
       "<table class=\"dataframe\">\n",
       "<caption>A data.frame: 1 × 2</caption>\n",
       "<thead>\n",
       "\t<tr><th scope=col>Date</th><th scope=col>nombreDeTirage</th></tr>\n",
       "\t<tr><th scope=col>&lt;date&gt;</th><th scope=col>&lt;dbl&gt;</th></tr>\n",
       "</thead>\n",
       "<tbody>\n",
       "\t<tr><td>2021-09-13</td><td>30</td></tr>\n",
       "</tbody>\n",
       "</table>\n"
      ],
      "text/latex": [
       "A data.frame: 1 × 2\n",
       "\\begin{tabular}{ll}\n",
       " Date & nombreDeTirage\\\\\n",
       " <date> & <dbl>\\\\\n",
       "\\hline\n",
       "\t 2021-09-13 & 30\\\\\n",
       "\\end{tabular}\n"
      ],
      "text/markdown": [
       "\n",
       "A data.frame: 1 × 2\n",
       "\n",
       "| Date &lt;date&gt; | nombreDeTirage &lt;dbl&gt; |\n",
       "|---|---|\n",
       "| 2021-09-13 | 30 |\n",
       "\n"
      ],
      "text/plain": [
       "  Date       nombreDeTirage\n",
       "1 2021-09-13 30            "
      ]
     },
     "metadata": {},
     "output_type": "display_data"
    },
    {
     "name": "stdout",
     "output_type": "stream",
     "text": [
      "        Date nombreDeTirage\n",
      "1 2021-09-13             30\n"
     ]
    }
   ],
   "source": [
    "(frame = data.frame(Date,nombreDeTirage))\n",
    "print(frame)"
   ]
  },
  {
   "cell_type": "code",
   "execution_count": 8,
   "id": "2983bfbd",
   "metadata": {},
   "outputs": [],
   "source": [
    "compterValeur = function(tirage){\n",
    "    # Cette fonction permet de compter combien de fois nous avons chaque carte\n",
    "    # Utile pour afficher le diagramme en baton\n",
    "    i=1\n",
    "    x = rep(0,11)\n",
    "    while (i<length(tirage)){\n",
    "        x[tirage[i]] = x[tirage[i]]+1\n",
    "        i = i+1\n",
    "    }\n",
    "    return(x)\n",
    "}"
   ]
  },
  {
   "cell_type": "code",
   "execution_count": 9,
   "id": "5c058396",
   "metadata": {},
   "outputs": [
    {
     "data": {
      "image/png": "[encoded data removed]",
      "text/plain": [
       "plot without title"
      ]
     },
     "metadata": {
      "image/png": {
       "height": 420,
       "width": 420
      }
     },
     "output_type": "display_data"
    }
   ],
   "source": [
    "barplot(compterValeur(experience))"
   ]
  },
  {
   "cell_type": "code",
   "execution_count": 10,
   "id": "e838d8ed",
   "metadata": {},
   "outputs": [
    {
     "name": "stderr",
     "output_type": "stream",
     "text": [
      "Installation du package dans 'C:/Users/alex5/OneDrive/Documents/R/win-library/4.1'\n",
      "(car 'lib' n'est pas spécifié)\n",
      "\n"
     ]
    },
    {
     "name": "stdout",
     "output_type": "stream",
     "text": [
      "package 'writexl' successfully unpacked and MD5 sums checked\n",
      "\n",
      "The downloaded binary packages are in\n",
      "\tC:\\Users\\alex5\\AppData\\Local\\Temp\\RtmpM1BtEi\\downloaded_packages\n"
     ]
    }
   ],
   "source": [
    "install.packages(\"writexl\")"
   ]
  },
  {
   "cell_type": "code",
   "execution_count": 11,
   "id": "9bcd9a36",
   "metadata": {},
   "outputs": [],
   "source": [
    "library(\"writexl\")\n",
    "write_xlsx(frame, \"TP1.xlsx\")"
   ]
  },
  {
   "cell_type": "code",
   "execution_count": null,
   "id": "82aea1b4",
   "metadata": {},
   "outputs": [],
   "source": []
  }
 ],
 "metadata": {
  "kernelspec": {
   "display_name": "R",
   "language": "R",
   "name": "ir"
  },
  "language_info": {
   "codemirror_mode": "r",
   "file_extension": ".r",
   "mimetype": "text/x-r-source",
   "name": "R",
   "pygments_lexer": "r",
   "version": "4.1.1"
  }
 },
 "nbformat": 4,
 "nbformat_minor": 5
}
