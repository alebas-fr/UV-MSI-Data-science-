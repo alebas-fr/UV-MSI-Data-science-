{
 "cells": [
  {
   "cell_type": "markdown",
   "id": "4a1b49dc",
   "metadata": {},
   "source": [
    "<head>\n",
    "    <style>\n",
    "        h1{\n",
    "            color: red ;\n",
    "        }\n",
    "    </style>\n",
    "</head>"
   ]
  },
  {
   "cell_type": "markdown",
   "id": "0538a86d",
   "metadata": {},
   "source": [
    "# Introduction : \n",
    "<p>Import des librairies nécessaires pour faire le TP</p>"
   ]
  },
  {
   "cell_type": "code",
   "execution_count": 1,
   "id": "3988bfab",
   "metadata": {},
   "outputs": [],
   "source": [
    "import numpy as np\n",
    "import pandas as pd\n",
    "import matplotlib.pyplot as plt\n",
    "import random\n",
    "import datetime\n",
    "import threading\n",
    "import time\n",
    "%matplotlib inline"
   ]
  },
  {
   "cell_type": "markdown",
   "id": "73010417",
   "metadata": {},
   "source": [
    "# Question 2 : \n",
    "<p> Développer une fonction qui réalise N tests. </p>"
   ]
  },
  {
   "cell_type": "code",
   "execution_count": 2,
   "id": "eaeaa797",
   "metadata": {},
   "outputs": [],
   "source": [
    "# Pour simplifier on ne donne pas de nom aux cartes mais on leur donne un numéro entre 0 et 10\n",
    "def Ntests(N):\n",
    "    tirage = np.random.randint(0,11,N)\n",
    "    return tirage"
   ]
  },
  {
   "cell_type": "code",
   "execution_count": 3,
   "id": "c3aa5d7f",
   "metadata": {},
   "outputs": [
    {
     "name": "stdout",
     "output_type": "stream",
     "text": [
      "[ 7  3  5  3  6  3  4  2  6  5 10  1 10  5  5  0  2 10  8 10  5 10  0  6\n",
      "  4  6  1 10  3  6]\n"
     ]
    }
   ],
   "source": [
    "N = 30\n",
    "experience = Ntests(N)\n",
    "print(experience)"
   ]
  },
  {
   "cell_type": "markdown",
   "id": "e608aaf6",
   "metadata": {},
   "source": [
    "# Question 3 :\n",
    "<p>Réaliser un frame composé de la date de test et du nombre\n",
    "de tirage.</p>"
   ]
  },
  {
   "cell_type": "code",
   "execution_count": 4,
   "id": "007908a2",
   "metadata": {},
   "outputs": [
    {
     "name": "stdout",
     "output_type": "stream",
     "text": [
      "                        Date  Nombre de tirage\n",
      "0 2021-09-13 22:02:11.546225                30\n"
     ]
    }
   ],
   "source": [
    "date = datetime.datetime.now()\n",
    "df1 = pd.DataFrame(data={'Date':[date],'Nombre de tirage':[N]})\n",
    "print(df1)"
   ]
  },
  {
   "cell_type": "code",
   "execution_count": 5,
   "id": "c48e2397",
   "metadata": {},
   "outputs": [],
   "source": [
    "def dataframeDateEtTest(N):\n",
    "    i=0\n",
    "    date = [] #Liste des dates\n",
    "    tirage = [] #Liste des nombre tiré\n",
    "    while i<N:\n",
    "        date.append(datetime.datetime.now())\n",
    "        tirage.append(random.randint(0,10))\n",
    "        i+=1\n",
    "    df = pd.DataFrame(data={\"Date\":date,'Tirage':tirage})\n",
    "    return df"
   ]
  },
  {
   "cell_type": "markdown",
   "id": "3f82a9cc",
   "metadata": {},
   "source": [
    "# Question 4 : \n",
    "<p>Afficher la structure du frame.</p>"
   ]
  },
  {
   "cell_type": "code",
   "execution_count": 6,
   "id": "1613c7e8",
   "metadata": {},
   "outputs": [
    {
     "name": "stdout",
     "output_type": "stream",
     "text": [
      "                         Date  Tirage\n",
      "0  2021-09-13 22:02:11.576130       3\n",
      "1  2021-09-13 22:02:11.576130      10\n",
      "2  2021-09-13 22:02:11.576130       1\n",
      "3  2021-09-13 22:02:11.576130       1\n",
      "4  2021-09-13 22:02:11.576130       6\n",
      "5  2021-09-13 22:02:11.576130       8\n",
      "6  2021-09-13 22:02:11.576130       2\n",
      "7  2021-09-13 22:02:11.576130       4\n",
      "8  2021-09-13 22:02:11.576130       9\n",
      "9  2021-09-13 22:02:11.576130       8\n",
      "10 2021-09-13 22:02:11.576130       2\n",
      "11 2021-09-13 22:02:11.576130       9\n",
      "12 2021-09-13 22:02:11.576130       7\n",
      "13 2021-09-13 22:02:11.576130       7\n",
      "14 2021-09-13 22:02:11.576130       5\n",
      "15 2021-09-13 22:02:11.576130       5\n",
      "16 2021-09-13 22:02:11.576130       5\n",
      "17 2021-09-13 22:02:11.576130      10\n",
      "18 2021-09-13 22:02:11.576130       0\n",
      "19 2021-09-13 22:02:11.576130       0\n",
      "20 2021-09-13 22:02:11.576130       0\n",
      "21 2021-09-13 22:02:11.576130       6\n",
      "22 2021-09-13 22:02:11.576130       0\n",
      "23 2021-09-13 22:02:11.576130       0\n",
      "24 2021-09-13 22:02:11.576130       2\n",
      "25 2021-09-13 22:02:11.576130       8\n",
      "26 2021-09-13 22:02:11.576130       6\n",
      "27 2021-09-13 22:02:11.576130       1\n",
      "28 2021-09-13 22:02:11.576130       2\n",
      "29 2021-09-13 22:02:11.576130       6\n",
      "30 2021-09-13 22:02:11.576130       7\n",
      "31 2021-09-13 22:02:11.576130       6\n",
      "32 2021-09-13 22:02:11.576130       6\n",
      "33 2021-09-13 22:02:11.576130       4\n",
      "34 2021-09-13 22:02:11.576130       1\n",
      "35 2021-09-13 22:02:11.576130       4\n",
      "36 2021-09-13 22:02:11.576130       5\n",
      "37 2021-09-13 22:02:11.576130       1\n",
      "38 2021-09-13 22:02:11.576130       3\n",
      "39 2021-09-13 22:02:11.576130       2\n",
      "40 2021-09-13 22:02:11.576130       9\n",
      "41 2021-09-13 22:02:11.576130       6\n",
      "42 2021-09-13 22:02:11.576130       3\n",
      "43 2021-09-13 22:02:11.576130       0\n",
      "44 2021-09-13 22:02:11.576130       5\n",
      "45 2021-09-13 22:02:11.576130       7\n",
      "46 2021-09-13 22:02:11.576130       1\n",
      "47 2021-09-13 22:02:11.576130       3\n",
      "48 2021-09-13 22:02:11.576130       0\n",
      "49 2021-09-13 22:02:11.576130       0\n"
     ]
    }
   ],
   "source": [
    "frame = dataframeDateEtTest(50)\n",
    "print(frame)"
   ]
  },
  {
   "cell_type": "markdown",
   "id": "5e8db2cd",
   "metadata": {},
   "source": [
    "# Question 5 : \n",
    "<p> Afficher la courbe des tirages.</p>"
   ]
  },
  {
   "cell_type": "code",
   "execution_count": 7,
   "id": "7f5a7fca",
   "metadata": {},
   "outputs": [
    {
     "name": "stdout",
     "output_type": "stream",
     "text": [
      "0     8\n",
      "6     7\n",
      "1     6\n",
      "2     5\n",
      "5     5\n",
      "3     4\n",
      "7     4\n",
      "4     3\n",
      "8     3\n",
      "9     3\n",
      "10    2\n",
      "Name: Tirage, dtype: int64\n"
     ]
    }
   ],
   "source": [
    "NombreDeValeur = frame['Tirage'].value_counts()\n",
    "print(NombreDeValeur)"
   ]
  },
  {
   "cell_type": "code",
   "execution_count": 8,
   "id": "cbe3fdf7",
   "metadata": {},
   "outputs": [
    {
     "name": "stdout",
     "output_type": "stream",
     "text": [
      "0     8\n",
      "1     6\n",
      "2     5\n",
      "3     4\n",
      "4     3\n",
      "5     5\n",
      "6     7\n",
      "7     4\n",
      "8     3\n",
      "9     3\n",
      "10    2\n",
      "Name: Tirage, dtype: int64\n"
     ]
    }
   ],
   "source": [
    "NombreDeValeur = NombreDeValeur.sort_index()\n",
    "print(NombreDeValeur)"
   ]
  },
  {
   "cell_type": "code",
   "execution_count": 9,
   "id": "ad1b9ef0",
   "metadata": {},
   "outputs": [
    {
     "data": {
      "text/plain": [
       "[0, 1, 2, 3, 4, 5, 6, 7, 8, 9, 10]"
      ]
     },
     "execution_count": 9,
     "metadata": {},
     "output_type": "execute_result"
    }
   ],
   "source": [
    "X = list(range(0,NombreDeValeur.shape[0]))\n",
    "X"
   ]
  },
  {
   "cell_type": "code",
   "execution_count": 10,
   "id": "046a0d97",
   "metadata": {
    "scrolled": false
   },
   "outputs": [
    {
     "data": {
      "image/png": "[encoded data removed]",
      "text/plain": [
       "<Figure size 720x720 with 1 Axes>"
      ]
     },
     "metadata": {
      "needs_background": "light"
     },
     "output_type": "display_data"
    }
   ],
   "source": [
    "plt.figure(figsize=(10,10))\n",
    "plt.bar(X,NombreDeValeur)\n",
    "plt.show() # Tracer"
   ]
  },
  {
   "cell_type": "markdown",
   "id": "bd53d948",
   "metadata": {},
   "source": [
    "# Question 6 : \n",
    "<p>  Exporter le frame dans un fichier excel</p>"
   ]
  },
  {
   "cell_type": "code",
   "execution_count": 11,
   "id": "5c996901",
   "metadata": {},
   "outputs": [],
   "source": [
    "frame.to_excel(\"TP1_py.xlsx\")"
   ]
  }
 ],
 "metadata": {
  "kernelspec": {
   "display_name": "Python 3",
   "language": "python",
   "name": "python3"
  },
  "language_info": {
   "codemirror_mode": {
    "name": "ipython",
    "version": 3
   },
   "file_extension": ".py",
   "mimetype": "text/x-python",
   "name": "python",
   "nbconvert_exporter": "python",
   "pygments_lexer": "ipython3",
   "version": "3.8.8"
  }
 },
 "nbformat": 4,
 "nbformat_minor": 5
}
