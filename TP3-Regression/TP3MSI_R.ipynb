{
 "cells": [
  {
   "cell_type": "markdown",
   "id": "dfa89225",
   "metadata": {},
   "source": [
    "# TP :\n",
    "\n",
    "# Exercice 1 :\n"
   ]
  },
  {
   "cell_type": "markdown",
   "id": "2f6a5235",
   "metadata": {},
   "source": [
    "# Question 1 et 2 :\n",
    "<p>Télécharger la base de données « Women »</p>\n",
    "<p>Identifier sa structure</p>"
   ]
  },
  {
   "cell_type": "code",
   "execution_count": 1,
   "id": "85713ad6",
   "metadata": {},
   "outputs": [
    {
     "data": {
      "text/html": [
       "<table class=\"dataframe\">\n",
       "<caption>A data.frame: 15 × 2</caption>\n",
       "<thead>\n",
       "\t<tr><th scope=col>height</th><th scope=col>weight</th></tr>\n",
       "\t<tr><th scope=col>&lt;dbl&gt;</th><th scope=col>&lt;dbl&gt;</th></tr>\n",
       "</thead>\n",
       "<tbody>\n",
       "\t<tr><td>58</td><td>115</td></tr>\n",
       "\t<tr><td>59</td><td>117</td></tr>\n",
       "\t<tr><td>60</td><td>120</td></tr>\n",
       "\t<tr><td>61</td><td>123</td></tr>\n",
       "\t<tr><td>62</td><td>126</td></tr>\n",
       "\t<tr><td>63</td><td>129</td></tr>\n",
       "\t<tr><td>64</td><td>132</td></tr>\n",
       "\t<tr><td>65</td><td>135</td></tr>\n",
       "\t<tr><td>66</td><td>139</td></tr>\n",
       "\t<tr><td>67</td><td>142</td></tr>\n",
       "\t<tr><td>68</td><td>146</td></tr>\n",
       "\t<tr><td>69</td><td>150</td></tr>\n",
       "\t<tr><td>70</td><td>154</td></tr>\n",
       "\t<tr><td>71</td><td>159</td></tr>\n",
       "\t<tr><td>72</td><td>164</td></tr>\n",
       "</tbody>\n",
       "</table>\n"
      ],
      "text/latex": [
       "A data.frame: 15 × 2\n",
       "\\begin{tabular}{ll}\n",
       " height & weight\\\\\n",
       " <dbl> & <dbl>\\\\\n",
       "\\hline\n",
       "\t 58 & 115\\\\\n",
       "\t 59 & 117\\\\\n",
       "\t 60 & 120\\\\\n",
       "\t 61 & 123\\\\\n",
       "\t 62 & 126\\\\\n",
       "\t 63 & 129\\\\\n",
       "\t 64 & 132\\\\\n",
       "\t 65 & 135\\\\\n",
       "\t 66 & 139\\\\\n",
       "\t 67 & 142\\\\\n",
       "\t 68 & 146\\\\\n",
       "\t 69 & 150\\\\\n",
       "\t 70 & 154\\\\\n",
       "\t 71 & 159\\\\\n",
       "\t 72 & 164\\\\\n",
       "\\end{tabular}\n"
      ],
      "text/markdown": [
       "\n",
       "A data.frame: 15 × 2\n",
       "\n",
       "| height &lt;dbl&gt; | weight &lt;dbl&gt; |\n",
       "|---|---|\n",
       "| 58 | 115 |\n",
       "| 59 | 117 |\n",
       "| 60 | 120 |\n",
       "| 61 | 123 |\n",
       "| 62 | 126 |\n",
       "| 63 | 129 |\n",
       "| 64 | 132 |\n",
       "| 65 | 135 |\n",
       "| 66 | 139 |\n",
       "| 67 | 142 |\n",
       "| 68 | 146 |\n",
       "| 69 | 150 |\n",
       "| 70 | 154 |\n",
       "| 71 | 159 |\n",
       "| 72 | 164 |\n",
       "\n"
      ],
      "text/plain": [
       "   height weight\n",
       "1  58     115   \n",
       "2  59     117   \n",
       "3  60     120   \n",
       "4  61     123   \n",
       "5  62     126   \n",
       "6  63     129   \n",
       "7  64     132   \n",
       "8  65     135   \n",
       "9  66     139   \n",
       "10 67     142   \n",
       "11 68     146   \n",
       "12 69     150   \n",
       "13 70     154   \n",
       "14 71     159   \n",
       "15 72     164   "
      ]
     },
     "metadata": {},
     "output_type": "display_data"
    }
   ],
   "source": [
    "# Code réalisé par Alexandre-Lebas le 20/09/2021\n",
    "\n",
    "# TP \n",
    "\n",
    "# Exercice 1 : \n",
    "\n",
    "# Question 1 :\n",
    "\n",
    "data = women\n",
    "\n",
    "# Question 2 : \n",
    "\n",
    "data"
   ]
  },
  {
   "cell_type": "markdown",
   "id": "151a0038",
   "metadata": {},
   "source": [
    "# Question 3 : \n",
    "<p> Afficher les variables multiples (height et weight) à travers de\n",
    "plot et pairs. Quelle est votre observation ?</p>"
   ]
  },
  {
   "cell_type": "code",
   "execution_count": 2,
   "id": "09db2a84",
   "metadata": {},
   "outputs": [
    {
     "data": {
      "image/png": "[encoded data removed]",
      "text/plain": [
       "plot without title"
      ]
     },
     "metadata": {
      "image/png": {
       "height": 420,
       "width": 420
      }
     },
     "output_type": "display_data"
    }
   ],
   "source": [
    "# Question 3 :\n",
    "pairs(women)\n",
    "\n",
    "# On remarque que les deux variables ont une dépendance linéaire."
   ]
  },
  {
   "cell_type": "markdown",
   "id": "bbc293d1",
   "metadata": {},
   "source": [
    "<p>On remarque que les deux variables ont une dépendance linéaire.</p>"
   ]
  },
  {
   "cell_type": "markdown",
   "id": "76afddd7",
   "metadata": {},
   "source": [
    "# Question 4 :\n",
    "<p>Quelle est la corrélation entre les deux variables ?</p>"
   ]
  },
  {
   "cell_type": "code",
   "execution_count": 3,
   "id": "bd72e052",
   "metadata": {},
   "outputs": [
    {
     "data": {
      "text/html": [
       "0.995494767784216"
      ],
      "text/latex": [
       "0.995494767784216"
      ],
      "text/markdown": [
       "0.995494767784216"
      ],
      "text/plain": [
       "[1] 0.9954948"
      ]
     },
     "metadata": {},
     "output_type": "display_data"
    }
   ],
   "source": [
    "# Question 4 :\n",
    "\n",
    "cor(women$height,women$weight)"
   ]
  },
  {
   "cell_type": "markdown",
   "id": "94180414",
   "metadata": {},
   "source": [
    "# Question 5 : \n",
    "<p>Développez le modèle de régression linéaire entre height et\n",
    "weight (lm)</p>"
   ]
  },
  {
   "cell_type": "code",
   "execution_count": 4,
   "id": "f7492873",
   "metadata": {},
   "outputs": [
    {
     "data": {
      "text/plain": [
       "\n",
       "Call:\n",
       "lm(formula = height ~ weight, data = women)\n",
       "\n",
       "Coefficients:\n",
       "(Intercept)       weight  \n",
       "    25.7235       0.2872  \n"
      ]
     },
     "metadata": {},
     "output_type": "display_data"
    }
   ],
   "source": [
    "# Question 5 :\n",
    "\n",
    "fit = lm(height ~ weight,data = women)\n",
    "fit"
   ]
  },
  {
   "cell_type": "markdown",
   "id": "44710ef9",
   "metadata": {},
   "source": [
    "# Question 6 :\n",
    "<p>Prédire le height à partir du weight (130, 165, 175), en utilisant\n",
    "la formule de régression linéaire</p>"
   ]
  },
  {
   "cell_type": "code",
   "execution_count": 5,
   "id": "bfdfc9c0",
   "metadata": {},
   "outputs": [
    {
     "data": {
      "text/html": [
       "63.0658552057727"
      ],
      "text/latex": [
       "63.0658552057727"
      ],
      "text/markdown": [
       "63.0658552057727"
      ],
      "text/plain": [
       "[1] 63.06586"
      ]
     },
     "metadata": {},
     "output_type": "display_data"
    }
   ],
   "source": [
    "# Question 6 :\n",
    "\n",
    "height130 = fit$coefficients[[1]]+fit$coefficients[[2]]*130\n",
    "height130"
   ]
  },
  {
   "cell_type": "code",
   "execution_count": 6,
   "id": "fc65ab90",
   "metadata": {},
   "outputs": [
    {
     "data": {
      "text/html": [
       "73.119578146063"
      ],
      "text/latex": [
       "73.119578146063"
      ],
      "text/markdown": [
       "73.119578146063"
      ],
      "text/plain": [
       "[1] 73.11958"
      ]
     },
     "metadata": {},
     "output_type": "display_data"
    }
   ],
   "source": [
    "height165= fit$coefficients[[1]]+fit$coefficients[[2]]*165\n",
    "height165"
   ]
  },
  {
   "cell_type": "code",
   "execution_count": 7,
   "id": "1f89c3e4",
   "metadata": {},
   "outputs": [
    {
     "data": {
      "text/html": [
       "75.9920704147173"
      ],
      "text/latex": [
       "75.9920704147173"
      ],
      "text/markdown": [
       "75.9920704147173"
      ],
      "text/plain": [
       "[1] 75.99207"
      ]
     },
     "metadata": {},
     "output_type": "display_data"
    }
   ],
   "source": [
    "height175= fit$coefficients[[1]]+fit$coefficients[[2]]*175\n",
    "height175"
   ]
  },
  {
   "cell_type": "markdown",
   "id": "7eaf2a7e",
   "metadata": {},
   "source": [
    "# Question 7 : \n",
    "<p> Afficher graphiquement les données initiales + les données\n",
    "prédites sur le même graphe.</p>"
   ]
  },
  {
   "cell_type": "code",
   "execution_count": 8,
   "id": "7aebe85e",
   "metadata": {},
   "outputs": [
    {
     "data": {
      "text/html": [
       "<table class=\"dataframe\">\n",
       "<caption>A data.frame: 3 × 2</caption>\n",
       "<thead>\n",
       "\t<tr><th scope=col>height</th><th scope=col>weight</th></tr>\n",
       "\t<tr><th scope=col>&lt;dbl&gt;</th><th scope=col>&lt;dbl&gt;</th></tr>\n",
       "</thead>\n",
       "<tbody>\n",
       "\t<tr><td>63.06586</td><td>130</td></tr>\n",
       "\t<tr><td>73.11958</td><td>165</td></tr>\n",
       "\t<tr><td>75.99207</td><td>175</td></tr>\n",
       "</tbody>\n",
       "</table>\n"
      ],
      "text/latex": [
       "A data.frame: 3 × 2\n",
       "\\begin{tabular}{ll}\n",
       " height & weight\\\\\n",
       " <dbl> & <dbl>\\\\\n",
       "\\hline\n",
       "\t 63.06586 & 130\\\\\n",
       "\t 73.11958 & 165\\\\\n",
       "\t 75.99207 & 175\\\\\n",
       "\\end{tabular}\n"
      ],
      "text/markdown": [
       "\n",
       "A data.frame: 3 × 2\n",
       "\n",
       "| height &lt;dbl&gt; | weight &lt;dbl&gt; |\n",
       "|---|---|\n",
       "| 63.06586 | 130 |\n",
       "| 73.11958 | 165 |\n",
       "| 75.99207 | 175 |\n",
       "\n"
      ],
      "text/plain": [
       "  height   weight\n",
       "1 63.06586 130   \n",
       "2 73.11958 165   \n",
       "3 75.99207 175   "
      ]
     },
     "metadata": {},
     "output_type": "display_data"
    }
   ],
   "source": [
    "# Question 7 :\n",
    "\n",
    "weight = c(130,165,175)\n",
    "height = c(height130,height165,height175)\n",
    "dframe = data.frame(height,weight)\n",
    "dframe"
   ]
  },
  {
   "cell_type": "code",
   "execution_count": 9,
   "id": "d45b3ea4",
   "metadata": {},
   "outputs": [
    {
     "data": {
      "text/html": [
       "<table class=\"dataframe\">\n",
       "<caption>A data.frame: 18 × 2</caption>\n",
       "<thead>\n",
       "\t<tr><th scope=col>height</th><th scope=col>weight</th></tr>\n",
       "\t<tr><th scope=col>&lt;dbl&gt;</th><th scope=col>&lt;dbl&gt;</th></tr>\n",
       "</thead>\n",
       "<tbody>\n",
       "\t<tr><td>58.00000</td><td>115</td></tr>\n",
       "\t<tr><td>59.00000</td><td>117</td></tr>\n",
       "\t<tr><td>60.00000</td><td>120</td></tr>\n",
       "\t<tr><td>61.00000</td><td>123</td></tr>\n",
       "\t<tr><td>62.00000</td><td>126</td></tr>\n",
       "\t<tr><td>63.00000</td><td>129</td></tr>\n",
       "\t<tr><td>64.00000</td><td>132</td></tr>\n",
       "\t<tr><td>65.00000</td><td>135</td></tr>\n",
       "\t<tr><td>66.00000</td><td>139</td></tr>\n",
       "\t<tr><td>67.00000</td><td>142</td></tr>\n",
       "\t<tr><td>68.00000</td><td>146</td></tr>\n",
       "\t<tr><td>69.00000</td><td>150</td></tr>\n",
       "\t<tr><td>70.00000</td><td>154</td></tr>\n",
       "\t<tr><td>71.00000</td><td>159</td></tr>\n",
       "\t<tr><td>72.00000</td><td>164</td></tr>\n",
       "\t<tr><td>63.06586</td><td>130</td></tr>\n",
       "\t<tr><td>73.11958</td><td>165</td></tr>\n",
       "\t<tr><td>75.99207</td><td>175</td></tr>\n",
       "</tbody>\n",
       "</table>\n"
      ],
      "text/latex": [
       "A data.frame: 18 × 2\n",
       "\\begin{tabular}{ll}\n",
       " height & weight\\\\\n",
       " <dbl> & <dbl>\\\\\n",
       "\\hline\n",
       "\t 58.00000 & 115\\\\\n",
       "\t 59.00000 & 117\\\\\n",
       "\t 60.00000 & 120\\\\\n",
       "\t 61.00000 & 123\\\\\n",
       "\t 62.00000 & 126\\\\\n",
       "\t 63.00000 & 129\\\\\n",
       "\t 64.00000 & 132\\\\\n",
       "\t 65.00000 & 135\\\\\n",
       "\t 66.00000 & 139\\\\\n",
       "\t 67.00000 & 142\\\\\n",
       "\t 68.00000 & 146\\\\\n",
       "\t 69.00000 & 150\\\\\n",
       "\t 70.00000 & 154\\\\\n",
       "\t 71.00000 & 159\\\\\n",
       "\t 72.00000 & 164\\\\\n",
       "\t 63.06586 & 130\\\\\n",
       "\t 73.11958 & 165\\\\\n",
       "\t 75.99207 & 175\\\\\n",
       "\\end{tabular}\n"
      ],
      "text/markdown": [
       "\n",
       "A data.frame: 18 × 2\n",
       "\n",
       "| height &lt;dbl&gt; | weight &lt;dbl&gt; |\n",
       "|---|---|\n",
       "| 58.00000 | 115 |\n",
       "| 59.00000 | 117 |\n",
       "| 60.00000 | 120 |\n",
       "| 61.00000 | 123 |\n",
       "| 62.00000 | 126 |\n",
       "| 63.00000 | 129 |\n",
       "| 64.00000 | 132 |\n",
       "| 65.00000 | 135 |\n",
       "| 66.00000 | 139 |\n",
       "| 67.00000 | 142 |\n",
       "| 68.00000 | 146 |\n",
       "| 69.00000 | 150 |\n",
       "| 70.00000 | 154 |\n",
       "| 71.00000 | 159 |\n",
       "| 72.00000 | 164 |\n",
       "| 63.06586 | 130 |\n",
       "| 73.11958 | 165 |\n",
       "| 75.99207 | 175 |\n",
       "\n"
      ],
      "text/plain": [
       "   height   weight\n",
       "1  58.00000 115   \n",
       "2  59.00000 117   \n",
       "3  60.00000 120   \n",
       "4  61.00000 123   \n",
       "5  62.00000 126   \n",
       "6  63.00000 129   \n",
       "7  64.00000 132   \n",
       "8  65.00000 135   \n",
       "9  66.00000 139   \n",
       "10 67.00000 142   \n",
       "11 68.00000 146   \n",
       "12 69.00000 150   \n",
       "13 70.00000 154   \n",
       "14 71.00000 159   \n",
       "15 72.00000 164   \n",
       "16 63.06586 130   \n",
       "17 73.11958 165   \n",
       "18 75.99207 175   "
      ]
     },
     "metadata": {},
     "output_type": "display_data"
    }
   ],
   "source": [
    "# Fusionner tous les dataframes pour pouvoir afficher tous les points sur le même graphique  \n",
    "dfTout = rbind(women,dframe)\n",
    "dfTout"
   ]
  },
  {
   "cell_type": "code",
   "execution_count": 10,
   "id": "440c523f",
   "metadata": {},
   "outputs": [
    {
     "data": {
      "image/png": "[encoded data removed]",
      "text/plain": [
       "plot without title"
      ]
     },
     "metadata": {
      "image/png": {
       "height": 420,
       "width": 420
      }
     },
     "output_type": "display_data"
    }
   ],
   "source": [
    "plot(dfTout$height,dfTout$weight)"
   ]
  },
  {
   "cell_type": "markdown",
   "id": "7ec9126a",
   "metadata": {},
   "source": [
    "# Exercice 2 : \n",
    "<p> Reprendre les questions de l’exercice précédent en\n",
    "remplaçant, dans la question 6, le calcul du modèle de la\n",
    "régression linéaire par la fonction « predict » </p>"
   ]
  },
  {
   "cell_type": "code",
   "execution_count": 11,
   "id": "2d208db7",
   "metadata": {},
   "outputs": [
    {
     "data": {
      "text/html": [
       "<table class=\"dataframe\">\n",
       "<caption>A data.frame: 3 × 1</caption>\n",
       "<thead>\n",
       "\t<tr><th scope=col>weight</th></tr>\n",
       "\t<tr><th scope=col>&lt;dbl&gt;</th></tr>\n",
       "</thead>\n",
       "<tbody>\n",
       "\t<tr><td>130</td></tr>\n",
       "\t<tr><td>165</td></tr>\n",
       "\t<tr><td>175</td></tr>\n",
       "</tbody>\n",
       "</table>\n"
      ],
      "text/latex": [
       "A data.frame: 3 × 1\n",
       "\\begin{tabular}{l}\n",
       " weight\\\\\n",
       " <dbl>\\\\\n",
       "\\hline\n",
       "\t 130\\\\\n",
       "\t 165\\\\\n",
       "\t 175\\\\\n",
       "\\end{tabular}\n"
      ],
      "text/markdown": [
       "\n",
       "A data.frame: 3 × 1\n",
       "\n",
       "| weight &lt;dbl&gt; |\n",
       "|---|\n",
       "| 130 |\n",
       "| 165 |\n",
       "| 175 |\n",
       "\n"
      ],
      "text/plain": [
       "  weight\n",
       "1 130   \n",
       "2 165   \n",
       "3 175   "
      ]
     },
     "metadata": {},
     "output_type": "display_data"
    },
    {
     "data": {
      "text/html": [
       "<style>\n",
       ".dl-inline {width: auto; margin:0; padding: 0}\n",
       ".dl-inline>dt, .dl-inline>dd {float: none; width: auto; display: inline-block}\n",
       ".dl-inline>dt::after {content: \":\\0020\"; padding-right: .5ex}\n",
       ".dl-inline>dt:not(:first-of-type) {padding-left: .5ex}\n",
       "</style><dl class=dl-inline><dt>1</dt><dd>63.0658552057727</dd><dt>2</dt><dd>73.119578146063</dd><dt>3</dt><dd>75.9920704147173</dd></dl>\n"
      ],
      "text/latex": [
       "\\begin{description*}\n",
       "\\item[1] 63.0658552057727\n",
       "\\item[2] 73.119578146063\n",
       "\\item[3] 75.9920704147173\n",
       "\\end{description*}\n"
      ],
      "text/markdown": [
       "1\n",
       ":   63.06585520577272\n",
       ":   73.1195781460633\n",
       ":   75.9920704147173\n",
       "\n"
      ],
      "text/plain": [
       "       1        2        3 \n",
       "63.06586 73.11958 75.99207 "
      ]
     },
     "metadata": {},
     "output_type": "display_data"
    }
   ],
   "source": [
    "# Exercice 2 :\n",
    "\n",
    "dataWeight = data.frame(weight=c(130,165,175))\n",
    "dataWeight\n",
    "HeightPredict = predict(fit,newdata = dataWeight)\n",
    "HeightPredict"
   ]
  },
  {
   "cell_type": "markdown",
   "id": "07d6f15f",
   "metadata": {},
   "source": [
    "# Exercice 3 : \n",
    "<p> Sur la base de données IRIS, développez le modèle de\n",
    "régression linéaire, en prédisant le Sepal.Length sur la\n",
    "base de Sepal.Width, Petal.Length et Petal.Width. </p>"
   ]
  },
  {
   "cell_type": "code",
   "execution_count": 12,
   "id": "fc199ea9",
   "metadata": {},
   "outputs": [
    {
     "data": {
      "text/plain": [
       "\n",
       "Call:\n",
       "lm(formula = Sepal.Length ~ Sepal.Width + Petal.Length + Petal.Width, \n",
       "    data = iris)\n",
       "\n",
       "Coefficients:\n",
       " (Intercept)   Sepal.Width  Petal.Length   Petal.Width  \n",
       "      1.8560        0.6508        0.7091       -0.5565  \n"
      ]
     },
     "metadata": {},
     "output_type": "display_data"
    }
   ],
   "source": [
    "# Exercice 3 : \n",
    "\n",
    "fitIris = lm(Sepal.Length ~ Sepal.Width + Petal.Length + Petal.Width,data = iris)\n",
    "fitIris"
   ]
  },
  {
   "cell_type": "code",
   "execution_count": null,
   "id": "abd38e43",
   "metadata": {},
   "outputs": [],
   "source": []
  }
 ],
 "metadata": {
  "kernelspec": {
   "display_name": "R",
   "language": "R",
   "name": "ir"
  },
  "language_info": {
   "codemirror_mode": "r",
   "file_extension": ".r",
   "mimetype": "text/x-r-source",
   "name": "R",
   "pygments_lexer": "r",
   "version": "4.1.1"
  }
 },
 "nbformat": 4,
 "nbformat_minor": 5
}
