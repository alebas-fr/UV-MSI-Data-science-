{
 "cells": [
  {
   "cell_type": "markdown",
   "id": "43181ac4",
   "metadata": {},
   "source": [
    "# Cours :"
   ]
  },
  {
   "cell_type": "code",
   "execution_count": 1,
   "id": "b976c50b",
   "metadata": {},
   "outputs": [
    {
     "data": {
      "image/png": "[encoded data removed]",
      "text/plain": [
       "plot without title"
      ]
     },
     "metadata": {
      "image/png": {
       "height": 420,
       "width": 420
      }
     },
     "output_type": "display_data"
    }
   ],
   "source": [
    "# Cours\n",
    "\n",
    "year <- rep( 2008: 2010, each = 4)\n",
    "quarter <- rep( 1: 4, 3)\n",
    "cpi <- c( 162.2, 164.6, 166.5, 166, 166.2, 167, 168.6, 169.5, 171,\n",
    "172.1, 173.3, 174)\n",
    "plot(cpi , xaxt = \"n\", ylab = \"CPI\", xlab = \"\")\n",
    "# draw x - a x i s , where ' la s=3 ' makes t e x t v e r t i c a l\n",
    "axis( 1, labels = paste( year ,quarter , sep = \"Q\") , at = 1: 12, las = 3)"
   ]
  },
  {
   "cell_type": "code",
   "execution_count": 2,
   "id": "8b34240a",
   "metadata": {},
   "outputs": [
    {
     "data": {
      "text/html": [
       "0.909631554760367"
      ],
      "text/latex": [
       "0.909631554760367"
      ],
      "text/markdown": [
       "0.909631554760367"
      ],
      "text/plain": [
       "[1] 0.9096316"
      ]
     },
     "metadata": {},
     "output_type": "display_data"
    }
   ],
   "source": [
    "cor(year,cpi)"
   ]
  },
  {
   "cell_type": "code",
   "execution_count": 3,
   "id": "23464413",
   "metadata": {},
   "outputs": [
    {
     "data": {
      "text/html": [
       "0.373802792167765"
      ],
      "text/latex": [
       "0.373802792167765"
      ],
      "text/markdown": [
       "0.373802792167765"
      ],
      "text/plain": [
       "[1] 0.3738028"
      ]
     },
     "metadata": {},
     "output_type": "display_data"
    }
   ],
   "source": [
    "cor(quarter,cpi)"
   ]
  },
  {
   "cell_type": "code",
   "execution_count": 4,
   "id": "18de8c8f",
   "metadata": {},
   "outputs": [
    {
     "data": {
      "text/plain": [
       "\n",
       "Call:\n",
       "lm(formula = cpi ~ year + quarter)\n",
       "\n",
       "Coefficients:\n",
       "(Intercept)         year      quarter  \n",
       "  -7644.488        3.888        1.167  \n"
      ]
     },
     "metadata": {},
     "output_type": "display_data"
    }
   ],
   "source": [
    "fit = lm(cpi ~ year + quarter)\n",
    "fit"
   ]
  },
  {
   "cell_type": "code",
   "execution_count": 5,
   "id": "ac35dc4a",
   "metadata": {},
   "outputs": [
    {
     "data": {
      "text/html": [
       "<style>\n",
       ".list-inline {list-style: none; margin:0; padding: 0}\n",
       ".list-inline>li {display: inline-block}\n",
       ".list-inline>li:not(:last-child)::after {content: \"\\00b7\"; padding: 0 .5ex}\n",
       "</style>\n",
       "<ol class=list-inline><li>174.441666666667</li><li>175.608333333334</li><li>176.775000000001</li><li>177.941666666668</li></ol>\n"
      ],
      "text/latex": [
       "\\begin{enumerate*}\n",
       "\\item 174.441666666667\n",
       "\\item 175.608333333334\n",
       "\\item 176.775000000001\n",
       "\\item 177.941666666668\n",
       "\\end{enumerate*}\n"
      ],
      "text/markdown": [
       "1. 174.441666666667\n",
       "2. 175.608333333334\n",
       "3. 176.775000000001\n",
       "4. 177.941666666668\n",
       "\n",
       "\n"
      ],
      "text/plain": [
       "[1] 174.4417 175.6083 176.7750 177.9417"
      ]
     },
     "metadata": {},
     "output_type": "display_data"
    }
   ],
   "source": [
    "cpi2011 <- fit$coefficients[[1]]+fit$coefficients[[2]]*2011+fit$coefficients[[3]]*(1:4)\n",
    "cpi2011"
   ]
  },
  {
   "cell_type": "code",
   "execution_count": 6,
   "id": "d4041b07",
   "metadata": {},
   "outputs": [
    {
     "data": {
      "text/html": [
       "<dl>\n",
       "\t<dt>$names</dt>\n",
       "\t\t<dd><style>\n",
       ".list-inline {list-style: none; margin:0; padding: 0}\n",
       ".list-inline>li {display: inline-block}\n",
       ".list-inline>li:not(:last-child)::after {content: \"\\00b7\"; padding: 0 .5ex}\n",
       "</style>\n",
       "<ol class=list-inline><li>'coefficients'</li><li>'residuals'</li><li>'effects'</li><li>'rank'</li><li>'fitted.values'</li><li>'assign'</li><li>'qr'</li><li>'df.residual'</li><li>'xlevels'</li><li>'call'</li><li>'terms'</li><li>'model'</li></ol>\n",
       "</dd>\n",
       "\t<dt>$class</dt>\n",
       "\t\t<dd>'lm'</dd>\n",
       "</dl>\n"
      ],
      "text/latex": [
       "\\begin{description}\n",
       "\\item[\\$names] \\begin{enumerate*}\n",
       "\\item 'coefficients'\n",
       "\\item 'residuals'\n",
       "\\item 'effects'\n",
       "\\item 'rank'\n",
       "\\item 'fitted.values'\n",
       "\\item 'assign'\n",
       "\\item 'qr'\n",
       "\\item 'df.residual'\n",
       "\\item 'xlevels'\n",
       "\\item 'call'\n",
       "\\item 'terms'\n",
       "\\item 'model'\n",
       "\\end{enumerate*}\n",
       "\n",
       "\\item[\\$class] 'lm'\n",
       "\\end{description}\n"
      ],
      "text/markdown": [
       "$names\n",
       ":   1. 'coefficients'\n",
       "2. 'residuals'\n",
       "3. 'effects'\n",
       "4. 'rank'\n",
       "5. 'fitted.values'\n",
       "6. 'assign'\n",
       "7. 'qr'\n",
       "8. 'df.residual'\n",
       "9. 'xlevels'\n",
       "10. 'call'\n",
       "11. 'terms'\n",
       "12. 'model'\n",
       "\n",
       "\n",
       "\n",
       "$class\n",
       ":   'lm'\n",
       "\n",
       "\n"
      ],
      "text/plain": [
       "$names\n",
       " [1] \"coefficients\"  \"residuals\"     \"effects\"       \"rank\"         \n",
       " [5] \"fitted.values\" \"assign\"        \"qr\"            \"df.residual\"  \n",
       " [9] \"xlevels\"       \"call\"          \"terms\"         \"model\"        \n",
       "\n",
       "$class\n",
       "[1] \"lm\"\n"
      ]
     },
     "metadata": {},
     "output_type": "display_data"
    }
   ],
   "source": [
    "attributes(fit)"
   ]
  },
  {
   "cell_type": "code",
   "execution_count": 7,
   "id": "50bfd1db",
   "metadata": {},
   "outputs": [
    {
     "data": {
      "text/html": [
       "<style>\n",
       ".dl-inline {width: auto; margin:0; padding: 0}\n",
       ".dl-inline>dt, .dl-inline>dd {float: none; width: auto; display: inline-block}\n",
       ".dl-inline>dt::after {content: \":\\0020\"; padding-right: .5ex}\n",
       ".dl-inline>dt:not(:first-of-type) {padding-left: .5ex}\n",
       "</style><dl class=dl-inline><dt>1</dt><dd>-0.579166666667739</dd><dt>2</dt><dd>0.654166666667053</dd><dt>3</dt><dd>1.38750000000023</dd><dt>4</dt><dd>-0.279166666666604</dd><dt>5</dt><dd>-0.466666666666294</dd><dt>6</dt><dd>-0.833333333333114</dd><dt>7</dt><dd>-0.399999999999951</dd><dt>8</dt><dd>-0.666666666666776</dd><dt>9</dt><dd>0.445833333333545</dd><dt>10</dt><dd>0.379166666666708</dd><dt>11</dt><dd>0.412499999999894</dd><dt>12</dt><dd>-0.054166666666948</dd></dl>\n"
      ],
      "text/latex": [
       "\\begin{description*}\n",
       "\\item[1] -0.579166666667739\n",
       "\\item[2] 0.654166666667053\n",
       "\\item[3] 1.38750000000023\n",
       "\\item[4] -0.279166666666604\n",
       "\\item[5] -0.466666666666294\n",
       "\\item[6] -0.833333333333114\n",
       "\\item[7] -0.399999999999951\n",
       "\\item[8] -0.666666666666776\n",
       "\\item[9] 0.445833333333545\n",
       "\\item[10] 0.379166666666708\n",
       "\\item[11] 0.412499999999894\n",
       "\\item[12] -0.054166666666948\n",
       "\\end{description*}\n"
      ],
      "text/markdown": [
       "1\n",
       ":   -0.5791666666677392\n",
       ":   0.6541666666670533\n",
       ":   1.387500000000234\n",
       ":   -0.2791666666666045\n",
       ":   -0.4666666666662946\n",
       ":   -0.8333333333331147\n",
       ":   -0.3999999999999518\n",
       ":   -0.6666666666667769\n",
       ":   0.44583333333354510\n",
       ":   0.37916666666670811\n",
       ":   0.41249999999989412\n",
       ":   -0.054166666666948\n",
       "\n"
      ],
      "text/plain": [
       "          1           2           3           4           5           6 \n",
       "-0.57916667  0.65416667  1.38750000 -0.27916667 -0.46666667 -0.83333333 \n",
       "          7           8           9          10          11          12 \n",
       "-0.40000000 -0.66666667  0.44583333  0.37916667  0.41250000 -0.05416667 "
      ]
     },
     "metadata": {},
     "output_type": "display_data"
    }
   ],
   "source": [
    "residuals(fit)"
   ]
  },
  {
   "cell_type": "code",
   "execution_count": 8,
   "id": "98c6fe0e",
   "metadata": {},
   "outputs": [
    {
     "data": {
      "text/plain": [
       "\n",
       "Call:\n",
       "lm(formula = cpi ~ year + quarter)\n",
       "\n",
       "Residuals:\n",
       "    Min      1Q  Median      3Q     Max \n",
       "-0.8333 -0.4948 -0.1667  0.4208  1.3875 \n",
       "\n",
       "Coefficients:\n",
       "              Estimate Std. Error t value Pr(>|t|)    \n",
       "(Intercept) -7644.4875   518.6543 -14.739 1.31e-07 ***\n",
       "year            3.8875     0.2582  15.058 1.09e-07 ***\n",
       "quarter         1.1667     0.1885   6.188 0.000161 ***\n",
       "---\n",
       "Signif. codes:  0 '***' 0.001 '**' 0.01 '*' 0.05 '.' 0.1 ' ' 1\n",
       "\n",
       "Residual standard error: 0.7302 on 9 degrees of freedom\n",
       "Multiple R-squared:  0.9672,\tAdjusted R-squared:  0.9599 \n",
       "F-statistic: 132.5 on 2 and 9 DF,  p-value: 2.108e-07\n"
      ]
     },
     "metadata": {},
     "output_type": "display_data"
    }
   ],
   "source": [
    "summary(fit)"
   ]
  },
  {
   "cell_type": "code",
   "execution_count": 9,
   "id": "b7219945",
   "metadata": {},
   "outputs": [
    {
     "data": {
      "image/png": "[encoded data removed]",
      "text/plain": [
       "plot without title"
      ]
     },
     "metadata": {
      "image/png": {
       "height": 420,
       "width": 420
      }
     },
     "output_type": "display_data"
    }
   ],
   "source": [
    "data2011 <- data.frame(year = 2011,quarter=1:4)\n",
    "cpi2011 <- predict(fit,newdata = data2011)\n",
    "style <- c(rep(1,12),rep(2,4))\n",
    "plot(c(cpi,cpi2011),xaxt = \"n\",ylab = \"CPI\",xlab = \"\",pch = style,col = style)\n",
    "axis(1,at = 1:16, las=3,labels = c(paste(year,quarter,sep=\"Q\"),\"2011Q1\",\"2011Q2\",\"2011Q3\",\"2011Q4\"))"
   ]
  },
  {
   "cell_type": "code",
   "execution_count": 10,
   "id": "35ff85f2",
   "metadata": {},
   "outputs": [
    {
     "name": "stderr",
     "output_type": "stream",
     "text": [
      "Installation du package dans 'C:/Users/alex5/OneDrive/Documents/R/win-library/4.1'\n",
      "(car 'lib' n'est pas spécifié)\n",
      "\n"
     ]
    },
    {
     "name": "stdout",
     "output_type": "stream",
     "text": [
      "package 'TH.data' successfully unpacked and MD5 sums checked\n",
      "\n",
      "The downloaded binary packages are in\n",
      "\tC:\\Users\\alex5\\AppData\\Local\\Temp\\RtmpgL1a4x\\downloaded_packages\n"
     ]
    }
   ],
   "source": [
    "install.packages(\"TH.data\")"
   ]
  },
  {
   "cell_type": "code",
   "execution_count": 11,
   "id": "8cbc443c",
   "metadata": {},
   "outputs": [],
   "source": [
    "data(\"bodyfat\",package = \"TH.data\")\n",
    "myformula = DEXfat ~ age + waistcirc + hipcirc + elbowbreadth + kneebreadth"
   ]
  },
  {
   "cell_type": "code",
   "execution_count": 12,
   "id": "5c1e4a04",
   "metadata": {},
   "outputs": [
    {
     "data": {
      "text/plain": [
       "\n",
       "Call:\n",
       "glm(formula = myformula, family = gaussian(\"log\"), data = bodyfat)\n",
       "\n",
       "Deviance Residuals: \n",
       "     Min        1Q    Median        3Q       Max  \n",
       "-11.5688   -3.0065    0.1266    2.8310   10.0966  \n",
       "\n",
       "Coefficients:\n",
       "             Estimate Std. Error t value Pr(>|t|)    \n",
       "(Intercept)  0.734293   0.308949   2.377  0.02042 *  \n",
       "age          0.002129   0.001446   1.473  0.14560    \n",
       "waistcirc    0.010489   0.002479   4.231 7.44e-05 ***\n",
       "hipcirc      0.009702   0.003231   3.003  0.00379 ** \n",
       "elbowbreadth 0.002355   0.045686   0.052  0.95905    \n",
       "kneebreadth  0.063188   0.028193   2.241  0.02843 *  \n",
       "---\n",
       "Signif. codes:  0 '***' 0.001 '**' 0.01 '*' 0.05 '.' 0.1 ' ' 1\n",
       "\n",
       "(Dispersion parameter for gaussian family taken to be 20.31433)\n",
       "\n",
       "    Null deviance: 8536.0  on 70  degrees of freedom\n",
       "Residual deviance: 1320.4  on 65  degrees of freedom\n",
       "AIC: 423.02\n",
       "\n",
       "Number of Fisher Scoring iterations: 5\n"
      ]
     },
     "metadata": {},
     "output_type": "display_data"
    }
   ],
   "source": [
    "bodyfat.glm <- glm(myformula,family = gaussian(\"log\"),data = bodyfat)\n",
    "summary(bodyfat.glm)"
   ]
  },
  {
   "cell_type": "code",
   "execution_count": 13,
   "id": "e15ddca6",
   "metadata": {},
   "outputs": [
    {
     "data": {
      "image/png": "[encoded data removed]",
      "text/plain": [
       "plot without title"
      ]
     },
     "metadata": {
      "image/png": {
       "height": 420,
       "width": 420
      }
     },
     "output_type": "display_data"
    }
   ],
   "source": [
    "pred = predict(bodyfat.glm, type = \"response\")\n",
    "plot(bodyfat$DEXfat, pred, xlab = \"Observed\",ylab = \"Prediction\")\n",
    "abline(a=0,b=1)"
   ]
  },
  {
   "cell_type": "code",
   "execution_count": 14,
   "id": "ccee3737",
   "metadata": {},
   "outputs": [],
   "source": [
    "set.seed(1234)\n",
    "ind = sample(2,nrow(iris),replace = TRUE, prob = c(0.7,0.3))"
   ]
  },
  {
   "cell_type": "code",
   "execution_count": 15,
   "id": "c55bbdec",
   "metadata": {},
   "outputs": [
    {
     "data": {
      "text/html": [
       "<style>\n",
       ".list-inline {list-style: none; margin:0; padding: 0}\n",
       ".list-inline>li {display: inline-block}\n",
       ".list-inline>li:not(:last-child)::after {content: \"\\00b7\"; padding: 0 .5ex}\n",
       "</style>\n",
       "<ol class=list-inline><li>1</li><li>1</li><li>1</li><li>1</li><li>2</li><li>1</li><li>1</li><li>1</li><li>1</li><li>1</li><li>1</li><li>1</li><li>1</li><li>2</li><li>1</li><li>2</li><li>1</li><li>1</li><li>1</li><li>1</li><li>1</li><li>1</li><li>1</li><li>1</li><li>1</li><li>2</li><li>1</li><li>2</li><li>2</li><li>1</li><li>1</li><li>1</li><li>1</li><li>1</li><li>1</li><li>2</li><li>1</li><li>1</li><li>2</li><li>2</li><li>1</li><li>1</li><li>1</li><li>1</li><li>1</li><li>1</li><li>1</li><li>1</li><li>1</li><li>2</li><li>1</li><li>1</li><li>2</li><li>1</li><li>1</li><li>1</li><li>1</li><li>2</li><li>1</li><li>2</li><li>2</li><li>1</li><li>1</li><li>1</li><li>1</li><li>2</li><li>1</li><li>1</li><li>1</li><li>1</li><li>1</li><li>2</li><li>1</li><li>2</li><li>1</li><li>1</li><li>1</li><li>1</li><li>1</li><li>1</li><li>2</li><li>1</li><li>1</li><li>1</li><li>1</li><li>2</li><li>1</li><li>1</li><li>1</li><li>2</li><li>1</li><li>2</li><li>1</li><li>1</li><li>1</li><li>1</li><li>1</li><li>1</li><li>1</li><li>2</li><li>1</li><li>1</li><li>1</li><li>1</li><li>1</li><li>1</li><li>1</li><li>1</li><li>1</li><li>1</li><li>2</li><li>1</li><li>2</li><li>1</li><li>1</li><li>2</li><li>2</li><li>1</li><li>1</li><li>2</li><li>2</li><li>2</li><li>2</li><li>2</li><li>1</li><li>1</li><li>1</li><li>1</li><li>1</li><li>1</li><li>2</li><li>1</li><li>1</li><li>1</li><li>2</li><li>1</li><li>2</li><li>1</li><li>1</li><li>2</li><li>1</li><li>2</li><li>1</li><li>1</li><li>1</li><li>1</li><li>2</li><li>1</li><li>2</li><li>1</li></ol>\n"
      ],
      "text/latex": [
       "\\begin{enumerate*}\n",
       "\\item 1\n",
       "\\item 1\n",
       "\\item 1\n",
       "\\item 1\n",
       "\\item 2\n",
       "\\item 1\n",
       "\\item 1\n",
       "\\item 1\n",
       "\\item 1\n",
       "\\item 1\n",
       "\\item 1\n",
       "\\item 1\n",
       "\\item 1\n",
       "\\item 2\n",
       "\\item 1\n",
       "\\item 2\n",
       "\\item 1\n",
       "\\item 1\n",
       "\\item 1\n",
       "\\item 1\n",
       "\\item 1\n",
       "\\item 1\n",
       "\\item 1\n",
       "\\item 1\n",
       "\\item 1\n",
       "\\item 2\n",
       "\\item 1\n",
       "\\item 2\n",
       "\\item 2\n",
       "\\item 1\n",
       "\\item 1\n",
       "\\item 1\n",
       "\\item 1\n",
       "\\item 1\n",
       "\\item 1\n",
       "\\item 2\n",
       "\\item 1\n",
       "\\item 1\n",
       "\\item 2\n",
       "\\item 2\n",
       "\\item 1\n",
       "\\item 1\n",
       "\\item 1\n",
       "\\item 1\n",
       "\\item 1\n",
       "\\item 1\n",
       "\\item 1\n",
       "\\item 1\n",
       "\\item 1\n",
       "\\item 2\n",
       "\\item 1\n",
       "\\item 1\n",
       "\\item 2\n",
       "\\item 1\n",
       "\\item 1\n",
       "\\item 1\n",
       "\\item 1\n",
       "\\item 2\n",
       "\\item 1\n",
       "\\item 2\n",
       "\\item 2\n",
       "\\item 1\n",
       "\\item 1\n",
       "\\item 1\n",
       "\\item 1\n",
       "\\item 2\n",
       "\\item 1\n",
       "\\item 1\n",
       "\\item 1\n",
       "\\item 1\n",
       "\\item 1\n",
       "\\item 2\n",
       "\\item 1\n",
       "\\item 2\n",
       "\\item 1\n",
       "\\item 1\n",
       "\\item 1\n",
       "\\item 1\n",
       "\\item 1\n",
       "\\item 1\n",
       "\\item 2\n",
       "\\item 1\n",
       "\\item 1\n",
       "\\item 1\n",
       "\\item 1\n",
       "\\item 2\n",
       "\\item 1\n",
       "\\item 1\n",
       "\\item 1\n",
       "\\item 2\n",
       "\\item 1\n",
       "\\item 2\n",
       "\\item 1\n",
       "\\item 1\n",
       "\\item 1\n",
       "\\item 1\n",
       "\\item 1\n",
       "\\item 1\n",
       "\\item 1\n",
       "\\item 2\n",
       "\\item 1\n",
       "\\item 1\n",
       "\\item 1\n",
       "\\item 1\n",
       "\\item 1\n",
       "\\item 1\n",
       "\\item 1\n",
       "\\item 1\n",
       "\\item 1\n",
       "\\item 1\n",
       "\\item 2\n",
       "\\item 1\n",
       "\\item 2\n",
       "\\item 1\n",
       "\\item 1\n",
       "\\item 2\n",
       "\\item 2\n",
       "\\item 1\n",
       "\\item 1\n",
       "\\item 2\n",
       "\\item 2\n",
       "\\item 2\n",
       "\\item 2\n",
       "\\item 2\n",
       "\\item 1\n",
       "\\item 1\n",
       "\\item 1\n",
       "\\item 1\n",
       "\\item 1\n",
       "\\item 1\n",
       "\\item 2\n",
       "\\item 1\n",
       "\\item 1\n",
       "\\item 1\n",
       "\\item 2\n",
       "\\item 1\n",
       "\\item 2\n",
       "\\item 1\n",
       "\\item 1\n",
       "\\item 2\n",
       "\\item 1\n",
       "\\item 2\n",
       "\\item 1\n",
       "\\item 1\n",
       "\\item 1\n",
       "\\item 1\n",
       "\\item 2\n",
       "\\item 1\n",
       "\\item 2\n",
       "\\item 1\n",
       "\\end{enumerate*}\n"
      ],
      "text/markdown": [
       "1. 1\n",
       "2. 1\n",
       "3. 1\n",
       "4. 1\n",
       "5. 2\n",
       "6. 1\n",
       "7. 1\n",
       "8. 1\n",
       "9. 1\n",
       "10. 1\n",
       "11. 1\n",
       "12. 1\n",
       "13. 1\n",
       "14. 2\n",
       "15. 1\n",
       "16. 2\n",
       "17. 1\n",
       "18. 1\n",
       "19. 1\n",
       "20. 1\n",
       "21. 1\n",
       "22. 1\n",
       "23. 1\n",
       "24. 1\n",
       "25. 1\n",
       "26. 2\n",
       "27. 1\n",
       "28. 2\n",
       "29. 2\n",
       "30. 1\n",
       "31. 1\n",
       "32. 1\n",
       "33. 1\n",
       "34. 1\n",
       "35. 1\n",
       "36. 2\n",
       "37. 1\n",
       "38. 1\n",
       "39. 2\n",
       "40. 2\n",
       "41. 1\n",
       "42. 1\n",
       "43. 1\n",
       "44. 1\n",
       "45. 1\n",
       "46. 1\n",
       "47. 1\n",
       "48. 1\n",
       "49. 1\n",
       "50. 2\n",
       "51. 1\n",
       "52. 1\n",
       "53. 2\n",
       "54. 1\n",
       "55. 1\n",
       "56. 1\n",
       "57. 1\n",
       "58. 2\n",
       "59. 1\n",
       "60. 2\n",
       "61. 2\n",
       "62. 1\n",
       "63. 1\n",
       "64. 1\n",
       "65. 1\n",
       "66. 2\n",
       "67. 1\n",
       "68. 1\n",
       "69. 1\n",
       "70. 1\n",
       "71. 1\n",
       "72. 2\n",
       "73. 1\n",
       "74. 2\n",
       "75. 1\n",
       "76. 1\n",
       "77. 1\n",
       "78. 1\n",
       "79. 1\n",
       "80. 1\n",
       "81. 2\n",
       "82. 1\n",
       "83. 1\n",
       "84. 1\n",
       "85. 1\n",
       "86. 2\n",
       "87. 1\n",
       "88. 1\n",
       "89. 1\n",
       "90. 2\n",
       "91. 1\n",
       "92. 2\n",
       "93. 1\n",
       "94. 1\n",
       "95. 1\n",
       "96. 1\n",
       "97. 1\n",
       "98. 1\n",
       "99. 1\n",
       "100. 2\n",
       "101. 1\n",
       "102. 1\n",
       "103. 1\n",
       "104. 1\n",
       "105. 1\n",
       "106. 1\n",
       "107. 1\n",
       "108. 1\n",
       "109. 1\n",
       "110. 1\n",
       "111. 2\n",
       "112. 1\n",
       "113. 2\n",
       "114. 1\n",
       "115. 1\n",
       "116. 2\n",
       "117. 2\n",
       "118. 1\n",
       "119. 1\n",
       "120. 2\n",
       "121. 2\n",
       "122. 2\n",
       "123. 2\n",
       "124. 2\n",
       "125. 1\n",
       "126. 1\n",
       "127. 1\n",
       "128. 1\n",
       "129. 1\n",
       "130. 1\n",
       "131. 2\n",
       "132. 1\n",
       "133. 1\n",
       "134. 1\n",
       "135. 2\n",
       "136. 1\n",
       "137. 2\n",
       "138. 1\n",
       "139. 1\n",
       "140. 2\n",
       "141. 1\n",
       "142. 2\n",
       "143. 1\n",
       "144. 1\n",
       "145. 1\n",
       "146. 1\n",
       "147. 2\n",
       "148. 1\n",
       "149. 2\n",
       "150. 1\n",
       "\n",
       "\n"
      ],
      "text/plain": [
       "  [1] 1 1 1 1 2 1 1 1 1 1 1 1 1 2 1 2 1 1 1 1 1 1 1 1 1 2 1 2 2 1 1 1 1 1 1 2 1\n",
       " [38] 1 2 2 1 1 1 1 1 1 1 1 1 2 1 1 2 1 1 1 1 2 1 2 2 1 1 1 1 2 1 1 1 1 1 2 1 2\n",
       " [75] 1 1 1 1 1 1 2 1 1 1 1 2 1 1 1 2 1 2 1 1 1 1 1 1 1 2 1 1 1 1 1 1 1 1 1 1 2\n",
       "[112] 1 2 1 1 2 2 1 1 2 2 2 2 2 1 1 1 1 1 1 2 1 1 1 2 1 2 1 1 2 1 2 1 1 1 1 2 1\n",
       "[149] 2 1"
      ]
     },
     "metadata": {},
     "output_type": "display_data"
    }
   ],
   "source": [
    "ind"
   ]
  },
  {
   "cell_type": "code",
   "execution_count": 16,
   "id": "b0479999",
   "metadata": {},
   "outputs": [],
   "source": [
    "train.data = iris[ind == 1,]\n",
    "test.data = iris[ind ==2,]"
   ]
  },
  {
   "cell_type": "code",
   "execution_count": 17,
   "id": "31d4d5c7",
   "metadata": {},
   "outputs": [
    {
     "name": "stderr",
     "output_type": "stream",
     "text": [
      "Installation du package dans 'C:/Users/alex5/OneDrive/Documents/R/win-library/4.1'\n",
      "(car 'lib' n'est pas spécifié)\n",
      "\n"
     ]
    },
    {
     "name": "stdout",
     "output_type": "stream",
     "text": [
      "package 'party' successfully unpacked and MD5 sums checked\n",
      "\n",
      "The downloaded binary packages are in\n",
      "\tC:\\Users\\alex5\\AppData\\Local\\Temp\\RtmpgL1a4x\\downloaded_packages\n"
     ]
    }
   ],
   "source": [
    "install.packages(\"party\")"
   ]
  },
  {
   "cell_type": "code",
   "execution_count": 18,
   "id": "c5894040",
   "metadata": {},
   "outputs": [
    {
     "name": "stderr",
     "output_type": "stream",
     "text": [
      "Le chargement a nécessité le package : grid\n",
      "\n",
      "Le chargement a nécessité le package : mvtnorm\n",
      "\n",
      "Le chargement a nécessité le package : modeltools\n",
      "\n",
      "Le chargement a nécessité le package : stats4\n",
      "\n",
      "Le chargement a nécessité le package : strucchange\n",
      "\n",
      "Le chargement a nécessité le package : zoo\n",
      "\n",
      "\n",
      "Attachement du package : 'zoo'\n",
      "\n",
      "\n",
      "Les objets suivants sont masqués depuis 'package:base':\n",
      "\n",
      "    as.Date, as.Date.numeric\n",
      "\n",
      "\n",
      "Le chargement a nécessité le package : sandwich\n",
      "\n"
     ]
    }
   ],
   "source": [
    "library(party)"
   ]
  },
  {
   "cell_type": "code",
   "execution_count": 19,
   "id": "da0fd60d",
   "metadata": {},
   "outputs": [
    {
     "data": {
      "text/plain": [
       "            \n",
       "             setosa versicolor virginica\n",
       "  setosa         40          0         0\n",
       "  versicolor      0         37         3\n",
       "  virginica       0          1        31"
      ]
     },
     "metadata": {},
     "output_type": "display_data"
    }
   ],
   "source": [
    "myFormula = Species ~ Sepal.Length + Sepal.Width + Petal.Length +Petal.Width\n",
    "iris_ctree = ctree(myFormula,data = train.data)\n",
    "\n",
    "table(predict(iris_ctree),train.data$Species)"
   ]
  },
  {
   "cell_type": "code",
   "execution_count": 20,
   "id": "039c78ff",
   "metadata": {},
   "outputs": [
    {
     "name": "stdout",
     "output_type": "stream",
     "text": [
      "\n",
      "\t Conditional inference tree with 4 terminal nodes\n",
      "\n",
      "Response:  Species \n",
      "Inputs:  Sepal.Length, Sepal.Width, Petal.Length, Petal.Width \n",
      "Number of observations:  112 \n",
      "\n",
      "1) Petal.Length <= 1.9; criterion = 1, statistic = 104.643\n",
      "  2)*  weights = 40 \n",
      "1) Petal.Length > 1.9\n",
      "  3) Petal.Width <= 1.7; criterion = 1, statistic = 48.939\n",
      "    4) Petal.Length <= 4.4; criterion = 0.974, statistic = 7.397\n",
      "      5)*  weights = 21 \n",
      "    4) Petal.Length > 4.4\n",
      "      6)*  weights = 19 \n",
      "  3) Petal.Width > 1.7\n",
      "    7)*  weights = 32 \n"
     ]
    }
   ],
   "source": [
    "print(iris_ctree)"
   ]
  },
  {
   "cell_type": "code",
   "execution_count": 21,
   "id": "2c504d62",
   "metadata": {},
   "outputs": [
    {
     "data": {
      "image/png": "[encoded data removed]",
      "text/plain": [
       "plot without title"
      ]
     },
     "metadata": {
      "image/png": {
       "height": 420,
       "width": 420
      }
     },
     "output_type": "display_data"
    }
   ],
   "source": [
    "plot(iris_ctree)"
   ]
  },
  {
   "cell_type": "code",
   "execution_count": 22,
   "id": "a4e5ff8f",
   "metadata": {},
   "outputs": [
    {
     "data": {
      "image/png": "[encoded data removed]",
      "text/plain": [
       "plot without title"
      ]
     },
     "metadata": {
      "image/png": {
       "height": 420,
       "width": 420
      }
     },
     "output_type": "display_data"
    }
   ],
   "source": [
    "plot(iris_ctree,type=\"simple\")"
   ]
  },
  {
   "cell_type": "code",
   "execution_count": 23,
   "id": "bbcd74c1",
   "metadata": {},
   "outputs": [
    {
     "data": {
      "text/plain": [
       "            \n",
       "testPred     setosa versicolor virginica\n",
       "  setosa         10          0         0\n",
       "  versicolor      0         12         2\n",
       "  virginica       0          0        14"
      ]
     },
     "metadata": {},
     "output_type": "display_data"
    }
   ],
   "source": [
    "testPred = predict(iris_ctree,newdata = test.data)\n",
    "table(testPred, test.data$Species)"
   ]
  },
  {
   "cell_type": "code",
   "execution_count": 24,
   "id": "382cf825",
   "metadata": {},
   "outputs": [
    {
     "data": {
      "text/html": [
       "<style>\n",
       ".list-inline {list-style: none; margin:0; padding: 0}\n",
       ".list-inline>li {display: inline-block}\n",
       ".list-inline>li:not(:last-child)::after {content: \"\\00b7\"; padding: 0 .5ex}\n",
       "</style>\n",
       "<ol class=list-inline><li>71</li><li>10</li></ol>\n"
      ],
      "text/latex": [
       "\\begin{enumerate*}\n",
       "\\item 71\n",
       "\\item 10\n",
       "\\end{enumerate*}\n"
      ],
      "text/markdown": [
       "1. 71\n",
       "2. 10\n",
       "\n",
       "\n"
      ],
      "text/plain": [
       "[1] 71 10"
      ]
     },
     "metadata": {},
     "output_type": "display_data"
    }
   ],
   "source": [
    "data(\"bodyfat\",package = \"TH.data\")\n",
    "dim(bodyfat)"
   ]
  },
  {
   "cell_type": "code",
   "execution_count": 25,
   "id": "812c23c6",
   "metadata": {},
   "outputs": [
    {
     "data": {
      "text/html": [
       "<table class=\"dataframe\">\n",
       "<caption>A data.frame: 5 × 10</caption>\n",
       "<thead>\n",
       "\t<tr><th></th><th scope=col>age</th><th scope=col>DEXfat</th><th scope=col>waistcirc</th><th scope=col>hipcirc</th><th scope=col>elbowbreadth</th><th scope=col>kneebreadth</th><th scope=col>anthro3a</th><th scope=col>anthro3b</th><th scope=col>anthro3c</th><th scope=col>anthro4</th></tr>\n",
       "\t<tr><th></th><th scope=col>&lt;dbl&gt;</th><th scope=col>&lt;dbl&gt;</th><th scope=col>&lt;dbl&gt;</th><th scope=col>&lt;dbl&gt;</th><th scope=col>&lt;dbl&gt;</th><th scope=col>&lt;dbl&gt;</th><th scope=col>&lt;dbl&gt;</th><th scope=col>&lt;dbl&gt;</th><th scope=col>&lt;dbl&gt;</th><th scope=col>&lt;dbl&gt;</th></tr>\n",
       "</thead>\n",
       "<tbody>\n",
       "\t<tr><th scope=row>47</th><td>57</td><td>41.68</td><td>100.0</td><td>112.0</td><td>7.1</td><td> 9.4</td><td>4.42</td><td>4.95</td><td>4.50</td><td>6.13</td></tr>\n",
       "\t<tr><th scope=row>48</th><td>65</td><td>43.29</td><td> 99.5</td><td>116.5</td><td>6.5</td><td> 8.9</td><td>4.63</td><td>5.01</td><td>4.48</td><td>6.37</td></tr>\n",
       "\t<tr><th scope=row>49</th><td>59</td><td>35.41</td><td> 96.0</td><td>108.5</td><td>6.2</td><td> 8.9</td><td>4.12</td><td>4.74</td><td>4.60</td><td>5.82</td></tr>\n",
       "\t<tr><th scope=row>50</th><td>58</td><td>22.79</td><td> 72.0</td><td> 96.5</td><td>6.1</td><td> 9.2</td><td>4.03</td><td>4.48</td><td>3.91</td><td>5.66</td></tr>\n",
       "\t<tr><th scope=row>51</th><td>60</td><td>36.42</td><td> 89.5</td><td>100.5</td><td>7.1</td><td>10.0</td><td>4.24</td><td>4.68</td><td>4.15</td><td>5.91</td></tr>\n",
       "</tbody>\n",
       "</table>\n"
      ],
      "text/latex": [
       "A data.frame: 5 × 10\n",
       "\\begin{tabular}{r|llllllllll}\n",
       "  & age & DEXfat & waistcirc & hipcirc & elbowbreadth & kneebreadth & anthro3a & anthro3b & anthro3c & anthro4\\\\\n",
       "  & <dbl> & <dbl> & <dbl> & <dbl> & <dbl> & <dbl> & <dbl> & <dbl> & <dbl> & <dbl>\\\\\n",
       "\\hline\n",
       "\t47 & 57 & 41.68 & 100.0 & 112.0 & 7.1 &  9.4 & 4.42 & 4.95 & 4.50 & 6.13\\\\\n",
       "\t48 & 65 & 43.29 &  99.5 & 116.5 & 6.5 &  8.9 & 4.63 & 5.01 & 4.48 & 6.37\\\\\n",
       "\t49 & 59 & 35.41 &  96.0 & 108.5 & 6.2 &  8.9 & 4.12 & 4.74 & 4.60 & 5.82\\\\\n",
       "\t50 & 58 & 22.79 &  72.0 &  96.5 & 6.1 &  9.2 & 4.03 & 4.48 & 3.91 & 5.66\\\\\n",
       "\t51 & 60 & 36.42 &  89.5 & 100.5 & 7.1 & 10.0 & 4.24 & 4.68 & 4.15 & 5.91\\\\\n",
       "\\end{tabular}\n"
      ],
      "text/markdown": [
       "\n",
       "A data.frame: 5 × 10\n",
       "\n",
       "| <!--/--> | age &lt;dbl&gt; | DEXfat &lt;dbl&gt; | waistcirc &lt;dbl&gt; | hipcirc &lt;dbl&gt; | elbowbreadth &lt;dbl&gt; | kneebreadth &lt;dbl&gt; | anthro3a &lt;dbl&gt; | anthro3b &lt;dbl&gt; | anthro3c &lt;dbl&gt; | anthro4 &lt;dbl&gt; |\n",
       "|---|---|---|---|---|---|---|---|---|---|---|\n",
       "| 47 | 57 | 41.68 | 100.0 | 112.0 | 7.1 |  9.4 | 4.42 | 4.95 | 4.50 | 6.13 |\n",
       "| 48 | 65 | 43.29 |  99.5 | 116.5 | 6.5 |  8.9 | 4.63 | 5.01 | 4.48 | 6.37 |\n",
       "| 49 | 59 | 35.41 |  96.0 | 108.5 | 6.2 |  8.9 | 4.12 | 4.74 | 4.60 | 5.82 |\n",
       "| 50 | 58 | 22.79 |  72.0 |  96.5 | 6.1 |  9.2 | 4.03 | 4.48 | 3.91 | 5.66 |\n",
       "| 51 | 60 | 36.42 |  89.5 | 100.5 | 7.1 | 10.0 | 4.24 | 4.68 | 4.15 | 5.91 |\n",
       "\n"
      ],
      "text/plain": [
       "   age DEXfat waistcirc hipcirc elbowbreadth kneebreadth anthro3a anthro3b\n",
       "47 57  41.68  100.0     112.0   7.1           9.4        4.42     4.95    \n",
       "48 65  43.29   99.5     116.5   6.5           8.9        4.63     5.01    \n",
       "49 59  35.41   96.0     108.5   6.2           8.9        4.12     4.74    \n",
       "50 58  22.79   72.0      96.5   6.1           9.2        4.03     4.48    \n",
       "51 60  36.42   89.5     100.5   7.1          10.0        4.24     4.68    \n",
       "   anthro3c anthro4\n",
       "47 4.50     6.13   \n",
       "48 4.48     6.37   \n",
       "49 4.60     5.82   \n",
       "50 3.91     5.66   \n",
       "51 4.15     5.91   "
      ]
     },
     "metadata": {},
     "output_type": "display_data"
    }
   ],
   "source": [
    "head(bodyfat,5)"
   ]
  },
  {
   "cell_type": "code",
   "execution_count": 26,
   "id": "c75dbdb3",
   "metadata": {},
   "outputs": [],
   "source": [
    "set.seed(1234)\n",
    "ind <- sample(2,nrow(bodyfat),replace=T,prob=c(0.7,0.3))\n",
    "bodyfat.train <- bodyfat[ind==1,]\n",
    "bodyfat.test <- bodyfat[ind==2,]"
   ]
  },
  {
   "cell_type": "code",
   "execution_count": 27,
   "id": "66d03479",
   "metadata": {},
   "outputs": [],
   "source": [
    "library(rpart)\n",
    "myFormula <- DEXfat ~ age + waistcirc + hipcirc + elbowbreadth +kneebreadth\n",
    "bodyfat_rpart <- rpart(myFormula,data = bodyfat.train, control = rpart.control(minsplit = 10))"
   ]
  },
  {
   "cell_type": "code",
   "execution_count": 28,
   "id": "36da77e6",
   "metadata": {},
   "outputs": [
    {
     "name": "stdout",
     "output_type": "stream",
     "text": [
      "n= 56 \n",
      "\n",
      "node), split, n, deviance, yval\n",
      "      * denotes terminal node\n",
      "\n",
      " 1) root 56 7265.0290000 30.94589  \n",
      "   2) waistcirc< 88.4 31  960.5381000 22.55645  \n",
      "     4) hipcirc< 96.25 14  222.2648000 18.41143  \n",
      "       8) age< 60.5 9   66.8809600 16.19222 *\n",
      "       9) age>=60.5 5   31.2769200 22.40600 *\n",
      "     5) hipcirc>=96.25 17  299.6470000 25.97000  \n",
      "      10) waistcirc< 77.75 6   30.7345500 22.32500 *\n",
      "      11) waistcirc>=77.75 11  145.7148000 27.95818  \n",
      "        22) hipcirc< 99.5 3    0.2568667 23.74667 *\n",
      "        23) hipcirc>=99.5 8   72.2933500 29.53750 *\n",
      "   3) waistcirc>=88.4 25 1417.1140000 41.34880  \n",
      "     6) waistcirc< 104.75 18  330.5792000 38.09111  \n",
      "      12) hipcirc< 109.9 9   68.9996200 34.37556 *\n",
      "      13) hipcirc>=109.9 9   13.0832000 41.80667 *\n",
      "     7) waistcirc>=104.75 7  404.3004000 49.72571 *\n"
     ]
    }
   ],
   "source": [
    "print(bodyfat_rpart)\n"
   ]
  },
  {
   "cell_type": "code",
   "execution_count": 29,
   "id": "c521b600",
   "metadata": {},
   "outputs": [
    {
     "data": {
      "image/png": "[encoded data removed]",
      "text/plain": [
       "plot without title"
      ]
     },
     "metadata": {
      "image/png": {
       "height": 420,
       "width": 420
      }
     },
     "output_type": "display_data"
    }
   ],
   "source": [
    "plot(bodyfat_rpart) # Afficher la structure de l'arbre\n",
    "text(bodyfat_rpart) # Afficher le texte sur l'arbre "
   ]
  },
  {
   "cell_type": "code",
   "execution_count": 30,
   "id": "8b601f0d",
   "metadata": {},
   "outputs": [],
   "source": [
    "opt <- which.min(bodyfat_rpart$cptable[,\"xerror\"])\n",
    "cp <- bodyfat_rpart$cptable[opt, \"CP\"]\n",
    "bodyfat_prune <- prune(bodyfat_rpart,cp = cp)"
   ]
  },
  {
   "cell_type": "code",
   "execution_count": 31,
   "id": "a0208b9e",
   "metadata": {},
   "outputs": [
    {
     "data": {
      "image/png": "[encoded data removed]",
      "text/plain": [
       "plot without title"
      ]
     },
     "metadata": {
      "image/png": {
       "height": 420,
       "width": 420
      }
     },
     "output_type": "display_data"
    }
   ],
   "source": [
    "plot(bodyfat_prune)\n",
    "text(bodyfat_prune,use.n = T)"
   ]
  },
  {
   "cell_type": "code",
   "execution_count": 32,
   "id": "ce871609",
   "metadata": {},
   "outputs": [
    {
     "data": {
      "image/png": "[encoded data removed]",
      "text/plain": [
       "plot without title"
      ]
     },
     "metadata": {
      "image/png": {
       "height": 420,
       "width": 420
      }
     },
     "output_type": "display_data"
    }
   ],
   "source": [
    "DEXfat_pred <- predict(bodyfat_prune,newdata = bodyfat.test)\n",
    "xlim <- range(bodyfat$DEXfat)\n",
    "plot(DEXfat_pred ~ DEXfat,data = bodyfat.test,xlab = \"Observed\",\n",
    "     ylab = \"Prediction\",ylim = xlim,xlim = xlim)\n",
    "abline(a=0,b=1)"
   ]
  },
  {
   "cell_type": "code",
   "execution_count": 33,
   "id": "a821bf0a",
   "metadata": {},
   "outputs": [
    {
     "name": "stderr",
     "output_type": "stream",
     "text": [
      "Installation du package dans 'C:/Users/alex5/OneDrive/Documents/R/win-library/4.1'\n",
      "(car 'lib' n'est pas spécifié)\n",
      "\n"
     ]
    },
    {
     "name": "stdout",
     "output_type": "stream",
     "text": [
      "package 'randomForest' successfully unpacked and MD5 sums checked\n",
      "\n",
      "The downloaded binary packages are in\n",
      "\tC:\\Users\\alex5\\AppData\\Local\\Temp\\RtmpgL1a4x\\downloaded_packages\n"
     ]
    },
    {
     "name": "stderr",
     "output_type": "stream",
     "text": [
      "randomForest 4.6-14\n",
      "\n",
      "Type rfNews() to see new features/changes/bug fixes.\n",
      "\n"
     ]
    }
   ],
   "source": [
    "install.packages(\"randomForest\")\n",
    "library(randomForest)"
   ]
  },
  {
   "cell_type": "code",
   "execution_count": 34,
   "id": "9a4e26f3",
   "metadata": {},
   "outputs": [],
   "source": [
    "rf = randomForest(Species ~ .,data = train.data, ntree = 100,proximity = T)"
   ]
  },
  {
   "cell_type": "code",
   "execution_count": 35,
   "id": "d30f105c",
   "metadata": {},
   "outputs": [
    {
     "data": {
      "text/plain": [
       "            \n",
       "             setosa versicolor virginica\n",
       "  setosa         40          0         0\n",
       "  versicolor      0         35         3\n",
       "  virginica       0          3        31"
      ]
     },
     "metadata": {},
     "output_type": "display_data"
    }
   ],
   "source": [
    "table(predict(rf),train.data$Species)"
   ]
  },
  {
   "cell_type": "code",
   "execution_count": 36,
   "id": "4482a185",
   "metadata": {},
   "outputs": [
    {
     "name": "stdout",
     "output_type": "stream",
     "text": [
      "\n",
      "Call:\n",
      " randomForest(formula = Species ~ ., data = train.data, ntree = 100,      proximity = T) \n",
      "               Type of random forest: classification\n",
      "                     Number of trees: 100\n",
      "No. of variables tried at each split: 2\n",
      "\n",
      "        OOB estimate of  error rate: 5.36%\n",
      "Confusion matrix:\n",
      "           setosa versicolor virginica class.error\n",
      "setosa         40          0         0  0.00000000\n",
      "versicolor      0         35         3  0.07894737\n",
      "virginica       0          3        31  0.08823529\n"
     ]
    }
   ],
   "source": [
    "print(rf)"
   ]
  },
  {
   "cell_type": "code",
   "execution_count": 37,
   "id": "2289c5e2",
   "metadata": {},
   "outputs": [
    {
     "data": {
      "image/png": "[encoded data removed]",
      "text/plain": [
       "Plot with title \"\""
      ]
     },
     "metadata": {
      "image/png": {
       "height": 420,
       "width": 420
      }
     },
     "output_type": "display_data"
    }
   ],
   "source": [
    "plot(rf, main=\"\")"
   ]
  },
  {
   "cell_type": "code",
   "execution_count": 38,
   "id": "93cae1f9",
   "metadata": {},
   "outputs": [
    {
     "data": {
      "text/html": [
       "<table class=\"dataframe\">\n",
       "<caption>A matrix: 4 × 1 of type dbl</caption>\n",
       "<thead>\n",
       "\t<tr><th></th><th scope=col>MeanDecreaseGini</th></tr>\n",
       "</thead>\n",
       "<tbody>\n",
       "\t<tr><th scope=row>Sepal.Length</th><td> 6.514765</td></tr>\n",
       "\t<tr><th scope=row>Sepal.Width</th><td> 1.622622</td></tr>\n",
       "\t<tr><th scope=row>Petal.Length</th><td>31.503476</td></tr>\n",
       "\t<tr><th scope=row>Petal.Width</th><td>34.164851</td></tr>\n",
       "</tbody>\n",
       "</table>\n"
      ],
      "text/latex": [
       "A matrix: 4 × 1 of type dbl\n",
       "\\begin{tabular}{r|l}\n",
       "  & MeanDecreaseGini\\\\\n",
       "\\hline\n",
       "\tSepal.Length &  6.514765\\\\\n",
       "\tSepal.Width &  1.622622\\\\\n",
       "\tPetal.Length & 31.503476\\\\\n",
       "\tPetal.Width & 34.164851\\\\\n",
       "\\end{tabular}\n"
      ],
      "text/markdown": [
       "\n",
       "A matrix: 4 × 1 of type dbl\n",
       "\n",
       "| <!--/--> | MeanDecreaseGini |\n",
       "|---|---|\n",
       "| Sepal.Length |  6.514765 |\n",
       "| Sepal.Width |  1.622622 |\n",
       "| Petal.Length | 31.503476 |\n",
       "| Petal.Width | 34.164851 |\n",
       "\n"
      ],
      "text/plain": [
       "             MeanDecreaseGini\n",
       "Sepal.Length  6.514765       \n",
       "Sepal.Width   1.622622       \n",
       "Petal.Length 31.503476       \n",
       "Petal.Width  34.164851       "
      ]
     },
     "metadata": {},
     "output_type": "display_data"
    }
   ],
   "source": [
    "importance(rf)"
   ]
  },
  {
   "cell_type": "code",
   "execution_count": 39,
   "id": "6bd2227e",
   "metadata": {},
   "outputs": [
    {
     "data": {
      "image/png": "[encoded data removed]",
      "text/plain": [
       "Plot with title \"rf\""
      ]
     },
     "metadata": {
      "image/png": {
       "height": 420,
       "width": 420
      }
     },
     "output_type": "display_data"
    }
   ],
   "source": [
    "varImpPlot(rf)"
   ]
  },
  {
   "cell_type": "code",
   "execution_count": 40,
   "id": "ac02ae4a",
   "metadata": {},
   "outputs": [
    {
     "data": {
      "text/plain": [
       "            \n",
       "irisPred     setosa versicolor virginica\n",
       "  setosa         10          0         0\n",
       "  versicolor      0         12         2\n",
       "  virginica       0          0        14"
      ]
     },
     "metadata": {},
     "output_type": "display_data"
    }
   ],
   "source": [
    "irisPred = predict(rf, newdata = test.data)\n",
    "table(irisPred, test.data$Species)"
   ]
  },
  {
   "cell_type": "code",
   "execution_count": 41,
   "id": "e56b0219",
   "metadata": {},
   "outputs": [
    {
     "data": {
      "image/png": "[encoded data removed]",
      "text/plain": [
       "plot without title"
      ]
     },
     "metadata": {
      "image/png": {
       "height": 420,
       "width": 420
      }
     },
     "output_type": "display_data"
    }
   ],
   "source": [
    "plot(margin(rf,test.data$Species))"
   ]
  }
 ],
 "metadata": {
  "kernelspec": {
   "display_name": "R",
   "language": "R",
   "name": "ir"
  },
  "language_info": {
   "codemirror_mode": "r",
   "file_extension": ".r",
   "mimetype": "text/x-r-source",
   "name": "R",
   "pygments_lexer": "r",
   "version": "4.1.1"
  }
 },
 "nbformat": 4,
 "nbformat_minor": 5
}
