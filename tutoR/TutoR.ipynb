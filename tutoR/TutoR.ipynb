{
 "cells": [
  {
   "cell_type": "code",
   "execution_count": 1,
   "id": "342b61f3",
   "metadata": {},
   "outputs": [],
   "source": [
    "x<-1:10"
   ]
  },
  {
   "cell_type": "code",
   "execution_count": 2,
   "id": "cfc8eb28",
   "metadata": {},
   "outputs": [
    {
     "data": {
      "text/html": [
       "<style>\n",
       ".list-inline {list-style: none; margin:0; padding: 0}\n",
       ".list-inline>li {display: inline-block}\n",
       ".list-inline>li:not(:last-child)::after {content: \"\\00b7\"; padding: 0 .5ex}\n",
       "</style>\n",
       "<ol class=list-inline><li>1</li><li>2</li><li>3</li><li>4</li><li>5</li><li>6</li><li>7</li><li>8</li><li>9</li><li>10</li></ol>\n"
      ],
      "text/latex": [
       "\\begin{enumerate*}\n",
       "\\item 1\n",
       "\\item 2\n",
       "\\item 3\n",
       "\\item 4\n",
       "\\item 5\n",
       "\\item 6\n",
       "\\item 7\n",
       "\\item 8\n",
       "\\item 9\n",
       "\\item 10\n",
       "\\end{enumerate*}\n"
      ],
      "text/markdown": [
       "1. 1\n",
       "2. 2\n",
       "3. 3\n",
       "4. 4\n",
       "5. 5\n",
       "6. 6\n",
       "7. 7\n",
       "8. 8\n",
       "9. 9\n",
       "10. 10\n",
       "\n",
       "\n"
      ],
      "text/plain": [
       " [1]  1  2  3  4  5  6  7  8  9 10"
      ]
     },
     "metadata": {},
     "output_type": "display_data"
    }
   ],
   "source": [
    "x"
   ]
  },
  {
   "cell_type": "code",
   "execution_count": 3,
   "id": "36a6fb81",
   "metadata": {},
   "outputs": [],
   "source": [
    "y<- runif(5) "
   ]
  },
  {
   "cell_type": "code",
   "execution_count": 4,
   "id": "720c0afc",
   "metadata": {},
   "outputs": [
    {
     "data": {
      "text/html": [
       "<style>\n",
       ".list-inline {list-style: none; margin:0; padding: 0}\n",
       ".list-inline>li {display: inline-block}\n",
       ".list-inline>li:not(:last-child)::after {content: \"\\00b7\"; padding: 0 .5ex}\n",
       "</style>\n",
       "<ol class=list-inline><li>0.763052913593128</li><li>0.299625623039901</li><li>0.320590649731457</li><li>0.976087180431932</li><li>0.392826316412538</li></ol>\n"
      ],
      "text/latex": [
       "\\begin{enumerate*}\n",
       "\\item 0.763052913593128\n",
       "\\item 0.299625623039901\n",
       "\\item 0.320590649731457\n",
       "\\item 0.976087180431932\n",
       "\\item 0.392826316412538\n",
       "\\end{enumerate*}\n"
      ],
      "text/markdown": [
       "1. 0.763052913593128\n",
       "2. 0.299625623039901\n",
       "3. 0.320590649731457\n",
       "4. 0.976087180431932\n",
       "5. 0.392826316412538\n",
       "\n",
       "\n"
      ],
      "text/plain": [
       "[1] 0.7630529 0.2996256 0.3205906 0.9760872 0.3928263"
      ]
     },
     "metadata": {},
     "output_type": "display_data"
    }
   ],
   "source": [
    "y"
   ]
  },
  {
   "cell_type": "code",
   "execution_count": 5,
   "id": "11ca15c4",
   "metadata": {},
   "outputs": [
    {
     "name": "stdout",
     "output_type": "stream",
     "text": [
      "[1] \"abc\" \"d\"   \"ef\"  \"g\"  \n"
     ]
    }
   ],
   "source": [
    "z <- c(\"abc\",\"d\",\"ef\",\"g\")\n",
    "print(z)"
   ]
  },
  {
   "cell_type": "code",
   "execution_count": 7,
   "id": "230cc39c",
   "metadata": {},
   "outputs": [
    {
     "data": {
      "text/html": [
       "'abc'"
      ],
      "text/latex": [
       "'abc'"
      ],
      "text/markdown": [
       "'abc'"
      ],
      "text/plain": [
       "[1] \"abc\""
      ]
     },
     "metadata": {},
     "output_type": "display_data"
    }
   ],
   "source": [
    "z[1]"
   ]
  },
  {
   "cell_type": "code",
   "execution_count": 8,
   "id": "78c2d412",
   "metadata": {},
   "outputs": [
    {
     "name": "stderr",
     "output_type": "stream",
     "text": [
      "Warning message in matrix(1:50, nrow = 4, byrow = T):\n",
      "\"la longueur des données [50] n'est pas un diviseur ni un multiple du nombre de lignes [4]\"\n"
     ]
    }
   ],
   "source": [
    "m <- matrix(1:50, nrow = 4, byrow=T)"
   ]
  },
  {
   "cell_type": "code",
   "execution_count": 9,
   "id": "d8d2c303",
   "metadata": {},
   "outputs": [
    {
     "data": {
      "text/html": [
       "<table class=\"dataframe\">\n",
       "<caption>A matrix: 4 × 13 of type int</caption>\n",
       "<tbody>\n",
       "\t<tr><td> 1</td><td> 2</td><td> 3</td><td> 4</td><td> 5</td><td> 6</td><td> 7</td><td> 8</td><td> 9</td><td>10</td><td>11</td><td>12</td><td>13</td></tr>\n",
       "\t<tr><td>14</td><td>15</td><td>16</td><td>17</td><td>18</td><td>19</td><td>20</td><td>21</td><td>22</td><td>23</td><td>24</td><td>25</td><td>26</td></tr>\n",
       "\t<tr><td>27</td><td>28</td><td>29</td><td>30</td><td>31</td><td>32</td><td>33</td><td>34</td><td>35</td><td>36</td><td>37</td><td>38</td><td>39</td></tr>\n",
       "\t<tr><td>40</td><td>41</td><td>42</td><td>43</td><td>44</td><td>45</td><td>46</td><td>47</td><td>48</td><td>49</td><td>50</td><td> 1</td><td> 2</td></tr>\n",
       "</tbody>\n",
       "</table>\n"
      ],
      "text/latex": [
       "A matrix: 4 × 13 of type int\n",
       "\\begin{tabular}{lllllllllllll}\n",
       "\t  1 &  2 &  3 &  4 &  5 &  6 &  7 &  8 &  9 & 10 & 11 & 12 & 13\\\\\n",
       "\t 14 & 15 & 16 & 17 & 18 & 19 & 20 & 21 & 22 & 23 & 24 & 25 & 26\\\\\n",
       "\t 27 & 28 & 29 & 30 & 31 & 32 & 33 & 34 & 35 & 36 & 37 & 38 & 39\\\\\n",
       "\t 40 & 41 & 42 & 43 & 44 & 45 & 46 & 47 & 48 & 49 & 50 &  1 &  2\\\\\n",
       "\\end{tabular}\n"
      ],
      "text/markdown": [
       "\n",
       "A matrix: 4 × 13 of type int\n",
       "\n",
       "|  1 |  2 |  3 |  4 |  5 |  6 |  7 |  8 |  9 | 10 | 11 | 12 | 13 |\n",
       "| 14 | 15 | 16 | 17 | 18 | 19 | 20 | 21 | 22 | 23 | 24 | 25 | 26 |\n",
       "| 27 | 28 | 29 | 30 | 31 | 32 | 33 | 34 | 35 | 36 | 37 | 38 | 39 |\n",
       "| 40 | 41 | 42 | 43 | 44 | 45 | 46 | 47 | 48 | 49 | 50 |  1 |  2 |\n",
       "\n"
      ],
      "text/plain": [
       "     [,1] [,2] [,3] [,4] [,5] [,6] [,7] [,8] [,9] [,10] [,11] [,12] [,13]\n",
       "[1,]  1    2    3    4    5    6    7    8    9   10    11    12    13   \n",
       "[2,] 14   15   16   17   18   19   20   21   22   23    24    25    26   \n",
       "[3,] 27   28   29   30   31   32   33   34   35   36    37    38    39   \n",
       "[4,] 40   41   42   43   44   45   46   47   48   49    50     1     2   "
      ]
     },
     "metadata": {},
     "output_type": "display_data"
    }
   ],
   "source": [
    "m"
   ]
  },
  {
   "cell_type": "code",
   "execution_count": 10,
   "id": "16f32388",
   "metadata": {},
   "outputs": [
    {
     "data": {
      "text/html": [
       "<table class=\"dataframe\">\n",
       "<caption>A data.frame: 5 × 4</caption>\n",
       "<thead>\n",
       "\t<tr><th scope=col>age</th><th scope=col>gender</th><th scope=col>height</th><th scope=col>married</th></tr>\n",
       "\t<tr><th scope=col>&lt;dbl&gt;</th><th scope=col>&lt;chr&gt;</th><th scope=col>&lt;dbl&gt;</th><th scope=col>&lt;lgl&gt;</th></tr>\n",
       "</thead>\n",
       "<tbody>\n",
       "\t<tr><td>45</td><td>Female</td><td>1.68</td><td> TRUE</td></tr>\n",
       "\t<tr><td>22</td><td>Male  </td><td>1.85</td><td>FALSE</td></tr>\n",
       "\t<tr><td>61</td><td>Male  </td><td>1.80</td><td> TRUE</td></tr>\n",
       "\t<tr><td>14</td><td>Female</td><td>1.66</td><td>FALSE</td></tr>\n",
       "\t<tr><td>37</td><td>Male  </td><td>1.72</td><td>FALSE</td></tr>\n",
       "</tbody>\n",
       "</table>\n"
      ],
      "text/latex": [
       "A data.frame: 5 × 4\n",
       "\\begin{tabular}{llll}\n",
       " age & gender & height & married\\\\\n",
       " <dbl> & <chr> & <dbl> & <lgl>\\\\\n",
       "\\hline\n",
       "\t 45 & Female & 1.68 &  TRUE\\\\\n",
       "\t 22 & Male   & 1.85 & FALSE\\\\\n",
       "\t 61 & Male   & 1.80 &  TRUE\\\\\n",
       "\t 14 & Female & 1.66 & FALSE\\\\\n",
       "\t 37 & Male   & 1.72 & FALSE\\\\\n",
       "\\end{tabular}\n"
      ],
      "text/markdown": [
       "\n",
       "A data.frame: 5 × 4\n",
       "\n",
       "| age &lt;dbl&gt; | gender &lt;chr&gt; | height &lt;dbl&gt; | married &lt;lgl&gt; |\n",
       "|---|---|---|---|\n",
       "| 45 | Female | 1.68 |  TRUE |\n",
       "| 22 | Male   | 1.85 | FALSE |\n",
       "| 61 | Male   | 1.80 |  TRUE |\n",
       "| 14 | Female | 1.66 | FALSE |\n",
       "| 37 | Male   | 1.72 | FALSE |\n",
       "\n"
      ],
      "text/plain": [
       "  age gender height married\n",
       "1 45  Female 1.68    TRUE  \n",
       "2 22  Male   1.85   FALSE  \n",
       "3 61  Male   1.80    TRUE  \n",
       "4 14  Female 1.66   FALSE  \n",
       "5 37  Male   1.72   FALSE  "
      ]
     },
     "metadata": {},
     "output_type": "display_data"
    }
   ],
   "source": [
    "age <- c(45, 22, 61, 14, 37)\n",
    "gender <- c(\"Female\", \"Male\", \"Male\", \"Female\", \"Male\")\n",
    "height <- c(1.68, 1.85, 1.8, 1.66, 1.72)\n",
    "age <- c(45, 22, 61, 14, 37)\n",
    "married <- c(T, F, T, F, F)\n",
    "(df <- data.frame(age, gender, height, married))"
   ]
  },
  {
   "cell_type": "code",
   "execution_count": 11,
   "id": "78d4b53f",
   "metadata": {},
   "outputs": [
    {
     "name": "stdout",
     "output_type": "stream",
     "text": [
      "'data.frame':\t5 obs. of  4 variables:\n",
      " $ age    : num  45 22 61 14 37\n",
      " $ gender : chr  \"Female\" \"Male\" \"Male\" \"Female\" ...\n",
      " $ height : num  1.68 1.85 1.8 1.66 1.72\n",
      " $ married: logi  TRUE FALSE TRUE FALSE FALSE\n"
     ]
    }
   ],
   "source": [
    "str(df)"
   ]
  },
  {
   "cell_type": "code",
   "execution_count": 13,
   "id": "3659afb3",
   "metadata": {},
   "outputs": [
    {
     "data": {
      "text/html": [
       "<ol>\n",
       "\t<li><style>\n",
       ".list-inline {list-style: none; margin:0; padding: 0}\n",
       ".list-inline>li {display: inline-block}\n",
       ".list-inline>li:not(:last-child)::after {content: \"\\00b7\"; padding: 0 .5ex}\n",
       "</style>\n",
       "<ol class=list-inline><li>1</li><li>2</li><li>3</li><li>4</li><li>5</li><li>6</li><li>7</li><li>8</li><li>9</li><li>10</li></ol>\n",
       "</li>\n",
       "\t<li><style>\n",
       ".list-inline {list-style: none; margin:0; padding: 0}\n",
       ".list-inline>li {display: inline-block}\n",
       ".list-inline>li:not(:last-child)::after {content: \"\\00b7\"; padding: 0 .5ex}\n",
       "</style>\n",
       "<ol class=list-inline><li>'abc'</li><li>'d'</li><li>'ef'</li><li>'g'</li></ol>\n",
       "</li>\n",
       "</ol>\n"
      ],
      "text/latex": [
       "\\begin{enumerate}\n",
       "\\item \\begin{enumerate*}\n",
       "\\item 1\n",
       "\\item 2\n",
       "\\item 3\n",
       "\\item 4\n",
       "\\item 5\n",
       "\\item 6\n",
       "\\item 7\n",
       "\\item 8\n",
       "\\item 9\n",
       "\\item 10\n",
       "\\end{enumerate*}\n",
       "\n",
       "\\item \\begin{enumerate*}\n",
       "\\item 'abc'\n",
       "\\item 'd'\n",
       "\\item 'ef'\n",
       "\\item 'g'\n",
       "\\end{enumerate*}\n",
       "\n",
       "\\end{enumerate}\n"
      ],
      "text/markdown": [
       "1. 1. 1\n",
       "2. 2\n",
       "3. 3\n",
       "4. 4\n",
       "5. 5\n",
       "6. 6\n",
       "7. 7\n",
       "8. 8\n",
       "9. 9\n",
       "10. 10\n",
       "\n",
       "\n",
       "\n",
       "2. 1. 'abc'\n",
       "2. 'd'\n",
       "3. 'ef'\n",
       "4. 'g'\n",
       "\n",
       "\n",
       "\n",
       "\n",
       "\n"
      ],
      "text/plain": [
       "[[1]]\n",
       " [1]  1  2  3  4  5  6  7  8  9 10\n",
       "\n",
       "[[2]]\n",
       "[1] \"abc\" \"d\"   \"ef\"  \"g\"  \n"
      ]
     },
     "metadata": {},
     "output_type": "display_data"
    }
   ],
   "source": [
    "x <- 1:10\n",
    "y <- c(\"abc\", \"d\", \"ef\", \"g\") \n",
    "(ls <- list(x, y))"
   ]
  },
  {
   "cell_type": "code",
   "execution_count": 19,
   "id": "9cc2a080",
   "metadata": {},
   "outputs": [
    {
     "data": {
      "text/html": [
       "<style>\n",
       ".list-inline {list-style: none; margin:0; padding: 0}\n",
       ".list-inline>li {display: inline-block}\n",
       ".list-inline>li:not(:last-child)::after {content: \"\\00b7\"; padding: 0 .5ex}\n",
       "</style>\n",
       "<ol class=list-inline><li>1</li><li>2</li><li>3</li><li>4</li><li>5</li><li>6</li><li>7</li><li>8</li><li>9</li><li>10</li></ol>\n"
      ],
      "text/latex": [
       "\\begin{enumerate*}\n",
       "\\item 1\n",
       "\\item 2\n",
       "\\item 3\n",
       "\\item 4\n",
       "\\item 5\n",
       "\\item 6\n",
       "\\item 7\n",
       "\\item 8\n",
       "\\item 9\n",
       "\\item 10\n",
       "\\end{enumerate*}\n"
      ],
      "text/markdown": [
       "1. 1\n",
       "2. 2\n",
       "3. 3\n",
       "4. 4\n",
       "5. 5\n",
       "6. 6\n",
       "7. 7\n",
       "8. 8\n",
       "9. 9\n",
       "10. 10\n",
       "\n",
       "\n"
      ],
      "text/plain": [
       " [1]  1  2  3  4  5  6  7  8  9 10"
      ]
     },
     "metadata": {},
     "output_type": "display_data"
    }
   ],
   "source": [
    "ls[[1]]"
   ]
  },
  {
   "cell_type": "code",
   "execution_count": 20,
   "id": "a6d1e382",
   "metadata": {},
   "outputs": [
    {
     "data": {
      "text/html": [
       "<style>\n",
       ".list-inline {list-style: none; margin:0; padding: 0}\n",
       ".list-inline>li {display: inline-block}\n",
       ".list-inline>li:not(:last-child)::after {content: \"\\00b7\"; padding: 0 .5ex}\n",
       "</style>\n",
       "<ol class=list-inline><li>'abc'</li><li>'d'</li><li>'ef'</li><li>'g'</li></ol>\n"
      ],
      "text/latex": [
       "\\begin{enumerate*}\n",
       "\\item 'abc'\n",
       "\\item 'd'\n",
       "\\item 'ef'\n",
       "\\item 'g'\n",
       "\\end{enumerate*}\n"
      ],
      "text/markdown": [
       "1. 'abc'\n",
       "2. 'd'\n",
       "3. 'ef'\n",
       "4. 'g'\n",
       "\n",
       "\n"
      ],
      "text/plain": [
       "[1] \"abc\" \"d\"   \"ef\"  \"g\"  "
      ]
     },
     "metadata": {},
     "output_type": "display_data"
    }
   ],
   "source": [
    "ls[[2]]"
   ]
  },
  {
   "cell_type": "code",
   "execution_count": 22,
   "id": "7e3fb813",
   "metadata": {},
   "outputs": [
    {
     "data": {
      "text/html": [
       "2"
      ],
      "text/latex": [
       "2"
      ],
      "text/markdown": [
       "2"
      ],
      "text/plain": [
       "[1] 2"
      ]
     },
     "metadata": {},
     "output_type": "display_data"
    }
   ],
   "source": [
    "ls[[1]][2]"
   ]
  },
  {
   "cell_type": "code",
   "execution_count": 24,
   "id": "2793f1a8",
   "metadata": {
    "scrolled": true
   },
   "outputs": [
    {
     "data": {
      "text/html": [
       "<style>\n",
       ".list-inline {list-style: none; margin:0; padding: 0}\n",
       ".list-inline>li {display: inline-block}\n",
       ".list-inline>li:not(:last-child)::after {content: \"\\00b7\"; padding: 0 .5ex}\n",
       "</style>\n",
       "<ol class=list-inline><li>'fail'</li><li>'fail'</li><li>'pass'</li><li>'pass'</li><li>'pass'</li></ol>\n"
      ],
      "text/latex": [
       "\\begin{enumerate*}\n",
       "\\item 'fail'\n",
       "\\item 'fail'\n",
       "\\item 'pass'\n",
       "\\item 'pass'\n",
       "\\item 'pass'\n",
       "\\end{enumerate*}\n"
      ],
      "text/markdown": [
       "1. 'fail'\n",
       "2. 'fail'\n",
       "3. 'pass'\n",
       "4. 'pass'\n",
       "5. 'pass'\n",
       "\n",
       "\n"
      ],
      "text/plain": [
       "[1] \"fail\" \"fail\" \"pass\" \"pass\" \"pass\""
      ]
     },
     "metadata": {},
     "output_type": "display_data"
    }
   ],
   "source": [
    "score <- 1:5\n",
    "ifelse(score >= 3, \"pass\", \"fail\")"
   ]
  },
  {
   "cell_type": "code",
   "execution_count": 25,
   "id": "886d58fb",
   "metadata": {},
   "outputs": [],
   "source": [
    "x <- 1:10\n",
    "y <- rep(NA, 10)\n",
    "for (i in 1:length(x)) {\n",
    "y[i] <- log(x[i])\n",
    "}"
   ]
  },
  {
   "cell_type": "code",
   "execution_count": 27,
   "id": "e727f2a4",
   "metadata": {},
   "outputs": [
    {
     "data": {
      "text/html": [
       "<style>\n",
       ".list-inline {list-style: none; margin:0; padding: 0}\n",
       ".list-inline>li {display: inline-block}\n",
       ".list-inline>li:not(:last-child)::after {content: \"\\00b7\"; padding: 0 .5ex}\n",
       "</style>\n",
       "<ol class=list-inline><li>0</li><li>0.693147180559945</li><li>1.09861228866811</li><li>1.38629436111989</li><li>1.6094379124341</li><li>1.79175946922805</li><li>1.94591014905531</li><li>2.07944154167984</li><li>2.19722457733622</li><li>2.30258509299405</li></ol>\n"
      ],
      "text/latex": [
       "\\begin{enumerate*}\n",
       "\\item 0\n",
       "\\item 0.693147180559945\n",
       "\\item 1.09861228866811\n",
       "\\item 1.38629436111989\n",
       "\\item 1.6094379124341\n",
       "\\item 1.79175946922805\n",
       "\\item 1.94591014905531\n",
       "\\item 2.07944154167984\n",
       "\\item 2.19722457733622\n",
       "\\item 2.30258509299405\n",
       "\\end{enumerate*}\n"
      ],
      "text/markdown": [
       "1. 0\n",
       "2. 0.693147180559945\n",
       "3. 1.09861228866811\n",
       "4. 1.38629436111989\n",
       "5. 1.6094379124341\n",
       "6. 1.79175946922805\n",
       "7. 1.94591014905531\n",
       "8. 2.07944154167984\n",
       "9. 2.19722457733622\n",
       "10. 2.30258509299405\n",
       "\n",
       "\n"
      ],
      "text/plain": [
       " [1] 0.0000000 0.6931472 1.0986123 1.3862944 1.6094379 1.7917595 1.9459101\n",
       " [8] 2.0794415 2.1972246 2.3025851"
      ]
     },
     "metadata": {},
     "output_type": "display_data"
    }
   ],
   "source": [
    "y"
   ]
  },
  {
   "cell_type": "code",
   "execution_count": 28,
   "id": "fda5b95e",
   "metadata": {},
   "outputs": [
    {
     "data": {
      "text/html": [
       "<style>\n",
       ".list-inline {list-style: none; margin:0; padding: 0}\n",
       ".list-inline>li {display: inline-block}\n",
       ".list-inline>li:not(:last-child)::after {content: \"\\00b7\"; padding: 0 .5ex}\n",
       "</style>\n",
       "<ol class=list-inline><li>0</li><li>0.693147180559945</li><li>1.09861228866811</li><li>1.38629436111989</li><li>1.6094379124341</li><li>1.79175946922805</li><li>1.94591014905531</li><li>2.07944154167984</li><li>2.19722457733622</li><li>2.30258509299405</li></ol>\n"
      ],
      "text/latex": [
       "\\begin{enumerate*}\n",
       "\\item 0\n",
       "\\item 0.693147180559945\n",
       "\\item 1.09861228866811\n",
       "\\item 1.38629436111989\n",
       "\\item 1.6094379124341\n",
       "\\item 1.79175946922805\n",
       "\\item 1.94591014905531\n",
       "\\item 2.07944154167984\n",
       "\\item 2.19722457733622\n",
       "\\item 2.30258509299405\n",
       "\\end{enumerate*}\n"
      ],
      "text/markdown": [
       "1. 0\n",
       "2. 0.693147180559945\n",
       "3. 1.09861228866811\n",
       "4. 1.38629436111989\n",
       "5. 1.6094379124341\n",
       "6. 1.79175946922805\n",
       "7. 1.94591014905531\n",
       "8. 2.07944154167984\n",
       "9. 2.19722457733622\n",
       "10. 2.30258509299405\n",
       "\n",
       "\n"
      ],
      "text/plain": [
       " [1] 0.0000000 0.6931472 1.0986123 1.3862944 1.6094379 1.7917595 1.9459101\n",
       " [8] 2.0794415 2.1972246 2.3025851"
      ]
     },
     "metadata": {},
     "output_type": "display_data"
    }
   ],
   "source": [
    "tmp <- lapply(x, log)\n",
    "(y <- do.call(\"c\", tmp))"
   ]
  },
  {
   "cell_type": "code",
   "execution_count": 29,
   "id": "64b8abfa",
   "metadata": {},
   "outputs": [
    {
     "data": {
      "text/html": [
       "19"
      ],
      "text/latex": [
       "19"
      ],
      "text/markdown": [
       "19"
      ],
      "text/plain": [
       "[1] 19"
      ]
     },
     "metadata": {},
     "output_type": "display_data"
    }
   ],
   "source": [
    "x <- 1:10\n",
    "y <- rep(NA, 10)\n",
    "library(parallel)\n",
    "(n.cores <- detectCores() - 1)\n",
    "## set up cluster\n",
    "cluster <- makeCluster(n.cores)\n",
    "## run jobs in parallel\n",
    "tmp <- parLapply(cluster, x, log)\n",
    "## stop cluster\n",
    "stopCluster(cluster)\n",
    "# collect results\n",
    "y <- do.call(\"c\", tmp)"
   ]
  },
  {
   "cell_type": "code",
   "execution_count": 31,
   "id": "2bb62e2b",
   "metadata": {},
   "outputs": [
    {
     "data": {
      "text/html": [
       "<style>\n",
       ".list-inline {list-style: none; margin:0; padding: 0}\n",
       ".list-inline>li {display: inline-block}\n",
       ".list-inline>li:not(:last-child)::after {content: \"\\00b7\"; padding: 0 .5ex}\n",
       "</style>\n",
       "<ol class=list-inline><li>0</li><li>0.693147180559945</li><li>1.09861228866811</li><li>1.38629436111989</li><li>1.6094379124341</li><li>1.79175946922805</li><li>1.94591014905531</li><li>2.07944154167984</li><li>2.19722457733622</li><li>2.30258509299405</li></ol>\n"
      ],
      "text/latex": [
       "\\begin{enumerate*}\n",
       "\\item 0\n",
       "\\item 0.693147180559945\n",
       "\\item 1.09861228866811\n",
       "\\item 1.38629436111989\n",
       "\\item 1.6094379124341\n",
       "\\item 1.79175946922805\n",
       "\\item 1.94591014905531\n",
       "\\item 2.07944154167984\n",
       "\\item 2.19722457733622\n",
       "\\item 2.30258509299405\n",
       "\\end{enumerate*}\n"
      ],
      "text/markdown": [
       "1. 0\n",
       "2. 0.693147180559945\n",
       "3. 1.09861228866811\n",
       "4. 1.38629436111989\n",
       "5. 1.6094379124341\n",
       "6. 1.79175946922805\n",
       "7. 1.94591014905531\n",
       "8. 2.07944154167984\n",
       "9. 2.19722457733622\n",
       "10. 2.30258509299405\n",
       "\n",
       "\n"
      ],
      "text/plain": [
       " [1] 0.0000000 0.6931472 1.0986123 1.3862944 1.6094379 1.7917595 1.9459101\n",
       " [8] 2.0794415 2.1972246 2.3025851"
      ]
     },
     "metadata": {},
     "output_type": "display_data"
    }
   ],
   "source": [
    "y"
   ]
  },
  {
   "cell_type": "code",
   "execution_count": 39,
   "id": "df094fcd",
   "metadata": {},
   "outputs": [
    {
     "ename": "ERROR",
     "evalue": "Error in eval(expr, envir, enclos): objet 'a' introuvable\n",
     "output_type": "error",
     "traceback": [
      "Error in eval(expr, envir, enclos): objet 'a' introuvable\nTraceback:\n"
     ]
    }
   ],
   "source": [
    "a <- 1:10\n",
    "save(a, file = \"dumData.Rdata\")\n",
    "rm(a)\n",
    "a"
   ]
  },
  {
   "cell_type": "code",
   "execution_count": 41,
   "id": "5e0decac",
   "metadata": {},
   "outputs": [
    {
     "data": {
      "text/html": [
       "<style>\n",
       ".list-inline {list-style: none; margin:0; padding: 0}\n",
       ".list-inline>li {display: inline-block}\n",
       ".list-inline>li:not(:last-child)::after {content: \"\\00b7\"; padding: 0 .5ex}\n",
       "</style>\n",
       "<ol class=list-inline><li>1</li><li>2</li><li>3</li><li>4</li><li>5</li><li>6</li><li>7</li><li>8</li><li>9</li><li>10</li></ol>\n"
      ],
      "text/latex": [
       "\\begin{enumerate*}\n",
       "\\item 1\n",
       "\\item 2\n",
       "\\item 3\n",
       "\\item 4\n",
       "\\item 5\n",
       "\\item 6\n",
       "\\item 7\n",
       "\\item 8\n",
       "\\item 9\n",
       "\\item 10\n",
       "\\end{enumerate*}\n"
      ],
      "text/markdown": [
       "1. 1\n",
       "2. 2\n",
       "3. 3\n",
       "4. 4\n",
       "5. 5\n",
       "6. 6\n",
       "7. 7\n",
       "8. 8\n",
       "9. 9\n",
       "10. 10\n",
       "\n",
       "\n"
      ],
      "text/plain": [
       " [1]  1  2  3  4  5  6  7  8  9 10"
      ]
     },
     "metadata": {},
     "output_type": "display_data"
    }
   ],
   "source": [
    "load(\"dumData.Rdata\")\n",
    "a"
   ]
  },
  {
   "cell_type": "code",
   "execution_count": 43,
   "id": "05bcd6ab",
   "metadata": {},
   "outputs": [],
   "source": [
    "var1 <- 1:5\n",
    "var2 <- (1:5)/10\n",
    "var3 <- c(\"R\", \"and\", \"Data Mining\", \"Examples\", \"Case Studies\")\n",
    "df1 <- data.frame(var1, var2, var3)\n",
    "names(df1) <- c(\"VarInt\", \"VarReal\", \"VarChar\")\n"
   ]
  },
  {
   "cell_type": "code",
   "execution_count": 45,
   "id": "87e5f6ab",
   "metadata": {},
   "outputs": [
    {
     "data": {
      "text/html": [
       "<table class=\"dataframe\">\n",
       "<caption>A data.frame: 5 × 3</caption>\n",
       "<thead>\n",
       "\t<tr><th scope=col>VarInt</th><th scope=col>VarReal</th><th scope=col>VarChar</th></tr>\n",
       "\t<tr><th scope=col>&lt;int&gt;</th><th scope=col>&lt;dbl&gt;</th><th scope=col>&lt;chr&gt;</th></tr>\n",
       "</thead>\n",
       "<tbody>\n",
       "\t<tr><td>1</td><td>0.1</td><td>R           </td></tr>\n",
       "\t<tr><td>2</td><td>0.2</td><td>and         </td></tr>\n",
       "\t<tr><td>3</td><td>0.3</td><td>Data Mining </td></tr>\n",
       "\t<tr><td>4</td><td>0.4</td><td>Examples    </td></tr>\n",
       "\t<tr><td>5</td><td>0.5</td><td>Case Studies</td></tr>\n",
       "</tbody>\n",
       "</table>\n"
      ],
      "text/latex": [
       "A data.frame: 5 × 3\n",
       "\\begin{tabular}{lll}\n",
       " VarInt & VarReal & VarChar\\\\\n",
       " <int> & <dbl> & <chr>\\\\\n",
       "\\hline\n",
       "\t 1 & 0.1 & R           \\\\\n",
       "\t 2 & 0.2 & and         \\\\\n",
       "\t 3 & 0.3 & Data Mining \\\\\n",
       "\t 4 & 0.4 & Examples    \\\\\n",
       "\t 5 & 0.5 & Case Studies\\\\\n",
       "\\end{tabular}\n"
      ],
      "text/markdown": [
       "\n",
       "A data.frame: 5 × 3\n",
       "\n",
       "| VarInt &lt;int&gt; | VarReal &lt;dbl&gt; | VarChar &lt;chr&gt; |\n",
       "|---|---|---|\n",
       "| 1 | 0.1 | R            |\n",
       "| 2 | 0.2 | and          |\n",
       "| 3 | 0.3 | Data Mining  |\n",
       "| 4 | 0.4 | Examples     |\n",
       "| 5 | 0.5 | Case Studies |\n",
       "\n"
      ],
      "text/plain": [
       "  VarInt VarReal VarChar     \n",
       "1 1      0.1     R           \n",
       "2 2      0.2     and         \n",
       "3 3      0.3     Data Mining \n",
       "4 4      0.4     Examples    \n",
       "5 5      0.5     Case Studies"
      ]
     },
     "metadata": {},
     "output_type": "display_data"
    }
   ],
   "source": [
    "df1"
   ]
  },
  {
   "cell_type": "code",
   "execution_count": 46,
   "id": "aa784470",
   "metadata": {},
   "outputs": [],
   "source": [
    "write.csv(df1, \"dummmyData.csv\", row.names = FALSE)"
   ]
  },
  {
   "cell_type": "code",
   "execution_count": 47,
   "id": "b9eb7958",
   "metadata": {},
   "outputs": [
    {
     "name": "stdout",
     "output_type": "stream",
     "text": [
      "  VarInt VarReal      VarChar\n",
      "1      1     0.1            R\n",
      "2      2     0.2          and\n",
      "3      3     0.3  Data Mining\n",
      "4      4     0.4     Examples\n",
      "5      5     0.5 Case Studies\n"
     ]
    }
   ],
   "source": [
    "df2 <- read.csv(\"dummmyData.csv\")\n",
    "print(df2)"
   ]
  },
  {
   "cell_type": "code",
   "execution_count": null,
   "id": "2b94e60e",
   "metadata": {},
   "outputs": [],
   "source": []
  }
 ],
 "metadata": {
  "kernelspec": {
   "display_name": "R",
   "language": "R",
   "name": "ir"
  },
  "language_info": {
   "codemirror_mode": "r",
   "file_extension": ".r",
   "mimetype": "text/x-r-source",
   "name": "R",
   "pygments_lexer": "r",
   "version": "4.1.1"
  }
 },
 "nbformat": 4,
 "nbformat_minor": 5
}
